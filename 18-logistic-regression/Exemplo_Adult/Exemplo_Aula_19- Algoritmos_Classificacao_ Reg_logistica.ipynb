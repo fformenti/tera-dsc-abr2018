{
 "cells": [
  {
   "cell_type": "markdown",
   "metadata": {},
   "source": [
    "# EXEMPLO - Aula_19: Algoritmos de Classificação: Regressão logística"
   ]
  },
  {
   "cell_type": "markdown",
   "metadata": {},
   "source": [
    "Base de Dados <br>\n",
    "Fonte da dados: kaglgle <br>\n",
    "Link: https://www.kaggle.com/kost13/us-income-logistic-regression/data <br>\n",
    "Resumo: Dados do Censo Adulto Americano referentes a renda para fatores sociais como Idade, Educação, raça, etc. <br>\n",
    "Objetivo: Ajustar um modelo de regressão logística, em uma base de treinamento, para uma resposta binária, fazer a previsão desta resposta e avaliar a qualidade de ajuste do modelo em uma base de teste.\n"
   ]
  },
  {
   "cell_type": "markdown",
   "metadata": {
    "_cell_guid": "8db8ec39-0419-4989-a9cc-90cc4c08c35b",
    "_uuid": "321134977aaf497b0d1e99e10652480fa1ffcea2"
   },
   "source": [
    "## Importando os Dados"
   ]
  },
  {
   "cell_type": "code",
   "execution_count": 204,
   "metadata": {
    "_cell_guid": "b3c7994c-c402-4a78-a65f-d44fe4f6f375",
    "_kg_hide-input": false,
    "_uuid": "2d3d846b4daf6c81aaef2026dd4411c02e6f84a0",
    "collapsed": true
   },
   "outputs": [],
   "source": [
    "import numpy as np\n",
    "import pandas as pd\n",
    "pd.set_option('display.max_columns', 500)\n",
    "import matplotlib as mpl\n",
    "import matplotlib.pyplot as plt\n",
    "import seaborn as sns\n",
    "from sklearn.preprocessing import StandardScaler\n",
    "\n",
    "columns = ['Age','Workclass','fnlgwt','Education','Education num','Marital Status',\n",
    "           'Occupation','Relationship','Race','Sex','Capital Gain','Capital Loss',\n",
    "           'Hours/Week','Native country','Income']\n",
    "\n",
    "train = pd.read_csv('C:/Users/crrodr/Documents/1. Conhecimento/Tera - Data Science/TURMA_2_201803/Reg_Logistica/Exemplo_Exercicio_v1/Exemplo_Adult/adult-training.csv', names=columns)\n",
    "test  = pd.read_csv('C:/Users/crrodr/Documents/1. Conhecimento/Tera - Data Science/TURMA_2_201803/Reg_Logistica/Exemplo_Exercicio_v1/Exemplo_Adult/adult-test.csv', names=columns, skiprows=1)\n",
    "\n",
    "    \n",
    "%matplotlib inline"
   ]
  },
  {
   "cell_type": "code",
   "execution_count": 205,
   "metadata": {
    "_cell_guid": "1ebefc56-485c-441f-be5d-caba6ad546a0",
    "_uuid": "7bbac22afe972c60cc5dcf164d681faca6a2d8ac",
    "scrolled": false
   },
   "outputs": [
    {
     "data": {
      "text/html": [
       "<div>\n",
       "<style>\n",
       "    .dataframe thead tr:only-child th {\n",
       "        text-align: right;\n",
       "    }\n",
       "\n",
       "    .dataframe thead th {\n",
       "        text-align: left;\n",
       "    }\n",
       "\n",
       "    .dataframe tbody tr th {\n",
       "        vertical-align: top;\n",
       "    }\n",
       "</style>\n",
       "<table border=\"1\" class=\"dataframe\">\n",
       "  <thead>\n",
       "    <tr style=\"text-align: right;\">\n",
       "      <th></th>\n",
       "      <th>Age</th>\n",
       "      <th>Workclass</th>\n",
       "      <th>fnlgwt</th>\n",
       "      <th>Education</th>\n",
       "      <th>Education num</th>\n",
       "      <th>Marital Status</th>\n",
       "      <th>Occupation</th>\n",
       "      <th>Relationship</th>\n",
       "      <th>Race</th>\n",
       "      <th>Sex</th>\n",
       "      <th>Capital Gain</th>\n",
       "      <th>Capital Loss</th>\n",
       "      <th>Hours/Week</th>\n",
       "      <th>Native country</th>\n",
       "      <th>Income</th>\n",
       "    </tr>\n",
       "  </thead>\n",
       "  <tbody>\n",
       "    <tr>\n",
       "      <th>0</th>\n",
       "      <td>39</td>\n",
       "      <td>State-gov</td>\n",
       "      <td>77516</td>\n",
       "      <td>Bachelors</td>\n",
       "      <td>13</td>\n",
       "      <td>Never-married</td>\n",
       "      <td>Adm-clerical</td>\n",
       "      <td>Not-in-family</td>\n",
       "      <td>White</td>\n",
       "      <td>Male</td>\n",
       "      <td>2174</td>\n",
       "      <td>0</td>\n",
       "      <td>40</td>\n",
       "      <td>United-States</td>\n",
       "      <td>&lt;=50K</td>\n",
       "    </tr>\n",
       "    <tr>\n",
       "      <th>1</th>\n",
       "      <td>50</td>\n",
       "      <td>Self-emp-not-inc</td>\n",
       "      <td>83311</td>\n",
       "      <td>Bachelors</td>\n",
       "      <td>13</td>\n",
       "      <td>Married-civ-spouse</td>\n",
       "      <td>Exec-managerial</td>\n",
       "      <td>Husband</td>\n",
       "      <td>White</td>\n",
       "      <td>Male</td>\n",
       "      <td>0</td>\n",
       "      <td>0</td>\n",
       "      <td>13</td>\n",
       "      <td>United-States</td>\n",
       "      <td>&lt;=50K</td>\n",
       "    </tr>\n",
       "    <tr>\n",
       "      <th>2</th>\n",
       "      <td>38</td>\n",
       "      <td>Private</td>\n",
       "      <td>215646</td>\n",
       "      <td>HS-grad</td>\n",
       "      <td>9</td>\n",
       "      <td>Divorced</td>\n",
       "      <td>Handlers-cleaners</td>\n",
       "      <td>Not-in-family</td>\n",
       "      <td>White</td>\n",
       "      <td>Male</td>\n",
       "      <td>0</td>\n",
       "      <td>0</td>\n",
       "      <td>40</td>\n",
       "      <td>United-States</td>\n",
       "      <td>&lt;=50K</td>\n",
       "    </tr>\n",
       "    <tr>\n",
       "      <th>3</th>\n",
       "      <td>53</td>\n",
       "      <td>Private</td>\n",
       "      <td>234721</td>\n",
       "      <td>11th</td>\n",
       "      <td>7</td>\n",
       "      <td>Married-civ-spouse</td>\n",
       "      <td>Handlers-cleaners</td>\n",
       "      <td>Husband</td>\n",
       "      <td>Black</td>\n",
       "      <td>Male</td>\n",
       "      <td>0</td>\n",
       "      <td>0</td>\n",
       "      <td>40</td>\n",
       "      <td>United-States</td>\n",
       "      <td>&lt;=50K</td>\n",
       "    </tr>\n",
       "    <tr>\n",
       "      <th>4</th>\n",
       "      <td>28</td>\n",
       "      <td>Private</td>\n",
       "      <td>338409</td>\n",
       "      <td>Bachelors</td>\n",
       "      <td>13</td>\n",
       "      <td>Married-civ-spouse</td>\n",
       "      <td>Prof-specialty</td>\n",
       "      <td>Wife</td>\n",
       "      <td>Black</td>\n",
       "      <td>Female</td>\n",
       "      <td>0</td>\n",
       "      <td>0</td>\n",
       "      <td>40</td>\n",
       "      <td>Cuba</td>\n",
       "      <td>&lt;=50K</td>\n",
       "    </tr>\n",
       "  </tbody>\n",
       "</table>\n",
       "</div>"
      ],
      "text/plain": [
       "   Age          Workclass  fnlgwt   Education  Education num  \\\n",
       "0   39          State-gov   77516   Bachelors             13   \n",
       "1   50   Self-emp-not-inc   83311   Bachelors             13   \n",
       "2   38            Private  215646     HS-grad              9   \n",
       "3   53            Private  234721        11th              7   \n",
       "4   28            Private  338409   Bachelors             13   \n",
       "\n",
       "        Marital Status          Occupation    Relationship    Race      Sex  \\\n",
       "0        Never-married        Adm-clerical   Not-in-family   White     Male   \n",
       "1   Married-civ-spouse     Exec-managerial         Husband   White     Male   \n",
       "2             Divorced   Handlers-cleaners   Not-in-family   White     Male   \n",
       "3   Married-civ-spouse   Handlers-cleaners         Husband   Black     Male   \n",
       "4   Married-civ-spouse      Prof-specialty            Wife   Black   Female   \n",
       "\n",
       "   Capital Gain  Capital Loss  Hours/Week  Native country  Income  \n",
       "0          2174             0          40   United-States   <=50K  \n",
       "1             0             0          13   United-States   <=50K  \n",
       "2             0             0          40   United-States   <=50K  \n",
       "3             0             0          40   United-States   <=50K  \n",
       "4             0             0          40            Cuba   <=50K  "
      ]
     },
     "execution_count": 205,
     "metadata": {},
     "output_type": "execute_result"
    }
   ],
   "source": [
    "train.head()"
   ]
  },
  {
   "cell_type": "code",
   "execution_count": 206,
   "metadata": {},
   "outputs": [
    {
     "data": {
      "text/plain": [
       "(32561, 15)"
      ]
     },
     "execution_count": 206,
     "metadata": {},
     "output_type": "execute_result"
    }
   ],
   "source": [
    "train.shape"
   ]
  },
  {
   "cell_type": "markdown",
   "metadata": {
    "_cell_guid": "a9bf020a-d2e1-459f-a5a2-8b8ba5ea57a2",
    "_uuid": "5102eacf23ba73ae613d1a7ae576fef5a9b0c344"
   },
   "source": [
    "Mais informação sobre este data set pode se encontrada em: [archive.ics.uci.edu/ml/machine-learning-databases/adult/adult.names](http://archive.ics.uci.edu/ml/machine-learning-databases/adult/adult.names)"
   ]
  },
  {
   "cell_type": "code",
   "execution_count": 207,
   "metadata": {
    "_cell_guid": "ca577964-8356-4b4f-8009-57c5c21aa51f",
    "_uuid": "2d0e63d8dcd66f0f72d6f65233c320ca9840a3a5",
    "scrolled": true
   },
   "outputs": [
    {
     "data": {
      "text/plain": [
       "Age                int64\n",
       "Workclass         object\n",
       "fnlgwt             int64\n",
       "Education         object\n",
       "Education num      int64\n",
       "Marital Status    object\n",
       "Occupation        object\n",
       "Relationship      object\n",
       "Race              object\n",
       "Sex               object\n",
       "Capital Gain       int64\n",
       "Capital Loss       int64\n",
       "Hours/Week         int64\n",
       "Native country    object\n",
       "Income            object\n",
       "dtype: object"
      ]
     },
     "execution_count": 207,
     "metadata": {},
     "output_type": "execute_result"
    }
   ],
   "source": [
    "train.dtypes"
   ]
  },
  {
   "cell_type": "code",
   "execution_count": 208,
   "metadata": {
    "_cell_guid": "fd0c8de9-360e-419c-805e-ee996836d426",
    "_uuid": "03c0c5e9df0a4f2070b2ee1c5ebe7335034bcaf4",
    "collapsed": true
   },
   "outputs": [],
   "source": [
    "train.replace(' ?', np.nan, inplace=True)\n",
    "test.replace(' ?', np.nan, inplace=True)"
   ]
  },
  {
   "cell_type": "code",
   "execution_count": 209,
   "metadata": {
    "_cell_guid": "17a8289b-d9ad-40fa-8ac2-f62a1872942b",
    "_uuid": "193b78b85fed7b3f364a69ba03f02d97042d555c"
   },
   "outputs": [
    {
     "data": {
      "text/plain": [
       "Age                  0\n",
       "Workclass         1836\n",
       "fnlgwt               0\n",
       "Education            0\n",
       "Education num        0\n",
       "Marital Status       0\n",
       "Occupation        1843\n",
       "Relationship         0\n",
       "Race                 0\n",
       "Sex                  0\n",
       "Capital Gain         0\n",
       "Capital Loss         0\n",
       "Hours/Week           0\n",
       "Native country     583\n",
       "Income               0\n",
       "dtype: int64"
      ]
     },
     "execution_count": 209,
     "metadata": {},
     "output_type": "execute_result"
    }
   ],
   "source": [
    "# verificando quantidade de missing para cada var\n",
    "train.isnull().sum()"
   ]
  },
  {
   "cell_type": "markdown",
   "metadata": {
    "_cell_guid": "8753be5f-5fbe-4aa6-97da-08902c6ba028",
    "_uuid": "ea8c4fa4defc114cc2e891f2671c2364b6904eb7"
   },
   "source": [
    "Como visto, somente Workclass, Occupation e Native country tem valores missing"
   ]
  },
  {
   "cell_type": "markdown",
   "metadata": {
    "_cell_guid": "ec4d5159-2bd1-4383-8c96-1a378f5c1b23",
    "_uuid": "08f83972554476f03e75c00970367f46452b42c0"
   },
   "source": [
    "# Parte_1A: Analisando as Variáveis Input - Missing/Categóricas"
   ]
  },
  {
   "cell_type": "markdown",
   "metadata": {
    "_cell_guid": "2096221b-88a1-4558-b7d8-ee21c056b130",
    "_uuid": "eca6ef331b4d47364b1844affc54d4ffc3048bf4"
   },
   "source": [
    "## Criando a variavel resposta binária a partir da variável Income"
   ]
  },
  {
   "cell_type": "markdown",
   "metadata": {
    "_cell_guid": "885d99a7-1656-4c5e-90be-e15b97766fe8",
    "_uuid": "823aeafc3ca8ede27011f5beddad0c1c87efd260"
   },
   "source": [
    "Transformando a variável Income-Renda em 0's and 1's"
   ]
  },
  {
   "cell_type": "code",
   "execution_count": 210,
   "metadata": {
    "_cell_guid": "04dec68c-f9db-42bd-9b8d-878cbf5b2c05",
    "_uuid": "52d410e203ae97ca32b997cd0d10d296d2f63928",
    "collapsed": true
   },
   "outputs": [],
   "source": [
    "# apply: aplica uma fç a coluna especificada - no caso Income\n",
    "# defini a fç lambda (nome de variável restrita do python) e já aplica ela\n",
    "train['Income'] = train['Income'].apply(lambda x: 1 if x==' >50K' else 0)\n",
    "test['Income'] = test['Income'].apply(lambda x: 1 if x==' >50K.' else 0)"
   ]
  },
  {
   "cell_type": "markdown",
   "metadata": {
    "_cell_guid": "5e44634b-d192-4442-8de7-1a24ce200475",
    "_uuid": "97cb96247a0520939272c7e2b2da67bd53ede896"
   },
   "source": [
    "## Workclass"
   ]
  },
  {
   "cell_type": "markdown",
   "metadata": {
    "_cell_guid": "98eb40cc-f8aa-48e0-ba52-26c0bc89d78b",
    "_uuid": "530086783bf1a3c3ab7bfe6f642e4028adc8b711"
   },
   "source": [
    "Tem muitas linhas missing, então vamos colocá-las em uma nova classe, substituindo por 0 e ver como fica o gráfico"
   ]
  },
  {
   "cell_type": "code",
   "execution_count": 211,
   "metadata": {
    "_cell_guid": "f1821696-1219-4211-9636-c4540d9e622a",
    "_uuid": "0f969a072c10e0dd07823fa8ba84ed16595c391d",
    "collapsed": true
   },
   "outputs": [],
   "source": [
    "train['Workclass'].fillna(' 0', inplace=True)\n",
    "test['Workclass'].fillna(' 0', inplace=True)"
   ]
  },
  {
   "cell_type": "code",
   "execution_count": 212,
   "metadata": {
    "_cell_guid": "995d6abb-3131-45f8-914b-155762d6cc3c",
    "_uuid": "d8d3de017f23115daca06a9e748f02f8e94eec20"
   },
   "outputs": [
    {
     "data": {
      "text/plain": [
       " Private             22696\n",
       " Self-emp-not-inc     2541\n",
       " Local-gov            2093\n",
       " 0                    1836\n",
       " State-gov            1298\n",
       " Self-emp-inc         1116\n",
       " Federal-gov           960\n",
       " Without-pay            14\n",
       " Never-worked            7\n",
       "Name: Workclass, dtype: int64"
      ]
     },
     "execution_count": 212,
     "metadata": {},
     "output_type": "execute_result"
    }
   ],
   "source": [
    "train['Workclass'].value_counts()"
   ]
  },
  {
   "cell_type": "markdown",
   "metadata": {
    "_cell_guid": "3b054226-b909-4f69-a581-a296d448a897",
    "_uuid": "dd4ff807e49ca2ee68869939241bf8a711cd5223"
   },
   "source": [
    "As categorias Never-worked e Without-pay tem poucas obs então vamos juntá-las"
   ]
  },
  {
   "cell_type": "code",
   "execution_count": 213,
   "metadata": {
    "_cell_guid": "2f836ce2-d849-468b-a0ae-dc6ad95abc7d",
    "_uuid": "6c0914daf28e89fd387c7c7afc1947f17dc980de",
    "collapsed": true
   },
   "outputs": [],
   "source": [
    "train['Workclass'].replace(' Without-pay', ' Never-worked', inplace=True)\n",
    "test['Workclass'].replace(' Without-pay', ' Never-worked', inplace=True)"
   ]
  },
  {
   "cell_type": "code",
   "execution_count": 214,
   "metadata": {
    "collapsed": true
   },
   "outputs": [],
   "source": [
    "train['Workclass'].replace(' Federal-gov', ' Never-worked', inplace=True)\n",
    "test['Workclass'].replace(' Federal-gov', ' Never-worked', inplace=True)"
   ]
  },
  {
   "cell_type": "markdown",
   "metadata": {
    "_cell_guid": "e5f73d58-8f8b-412a-b113-b92b6f0e644e",
    "_uuid": "cca65f789aeb81eba03e816b0f1f36ecbd534836"
   },
   "source": [
    "## Education"
   ]
  },
  {
   "cell_type": "code",
   "execution_count": 215,
   "metadata": {
    "_cell_guid": "f84db673-af02-4587-90ad-5c794dfee3e4",
    "_uuid": "9c29a000c4247d323358660baad7d24accdd79d2"
   },
   "outputs": [
    {
     "data": {
      "image/png": "[encoded data removed]",
      "text/plain": [
       "<matplotlib.figure.Figure at 0x294e99ccfd0>"
      ]
     },
     "metadata": {},
     "output_type": "display_data"
    }
   ],
   "source": [
    "sns.factorplot(x=\"Education\",y=\"Income\",data=train,kind=\"bar\", size = 7, \n",
    "palette = \"muted\")\n",
    "plt.xticks(rotation=60);"
   ]
  },
  {
   "cell_type": "markdown",
   "metadata": {
    "_cell_guid": "49a4aec3-48b9-4d52-b5be-68a35b404733",
    "_uuid": "6b97ed16d4b37649dc00a0fa647902587eff055e"
   },
   "source": [
    "A educação primária é dividada em grades:' 1st-4th', ' 5th-6th', ' 7th-8th', ' 9th', ' 10th', ' 11th', ' 12th'. <br>\n",
    "Por isso vamos juntar essas classes em uma nova classe - Primary"
   ]
  },
  {
   "cell_type": "code",
   "execution_count": 216,
   "metadata": {
    "_cell_guid": "3b277a06-05bb-4685-b337-aed6167112f3",
    "_uuid": "e8800bdbd79c4d1e53e2c40b883a86eed2d74490",
    "collapsed": true
   },
   "outputs": [],
   "source": [
    "def primary(x):\n",
    "    if x in [' Preschool',' 1st-4th', ' 5th-6th', ' 7th-8th', ' 9th', ' 10th', ' 11th', ' 12th']:\n",
    "        return ' Primary'\n",
    "    else:\n",
    "        return x"
   ]
  },
  {
   "cell_type": "code",
   "execution_count": 217,
   "metadata": {
    "_cell_guid": "79d7c7be-581e-4576-bea2-ab980c0c1243",
    "_uuid": "c8675f8d8b87d1923c2b8d78bd44596a080dcd89",
    "collapsed": true
   },
   "outputs": [],
   "source": [
    "train['Education'] = train['Education'].apply(primary)\n",
    "test['Education'] = test['Education'].apply(primary)"
   ]
  },
  {
   "cell_type": "markdown",
   "metadata": {
    "_cell_guid": "a8ee1f0c-2fe5-43ee-8493-8c03997994d6",
    "_uuid": "bab2cdfefde06ec3d5620f6cc75dcd55647f217c"
   },
   "source": [
    "## Native country "
   ]
  },
  {
   "cell_type": "markdown",
   "metadata": {},
   "source": [
    "Tem algumas linhas missing, então vamos colocá-las em uma nova classe, substituindo por 0 e ver como fica o gráfico"
   ]
  },
  {
   "cell_type": "code",
   "execution_count": 218,
   "metadata": {
    "_cell_guid": "30913212-e65e-4234-a1a9-82307125cd15",
    "_uuid": "4b3e0ba704659e6a5b02e94557fb8f328eee9154",
    "collapsed": true
   },
   "outputs": [],
   "source": [
    "train['Native country'].fillna(' 0', inplace=True)\n",
    "test['Native country'].fillna(' 0', inplace=True)"
   ]
  },
  {
   "cell_type": "markdown",
   "metadata": {
    "_cell_guid": "b549123c-9fc4-42bf-8116-666eaeefe63e",
    "_uuid": "b093393dfb2d71568b2448adc522afd6abdd902d"
   },
   "source": [
    "Vamos agrupar algumas categorias."
   ]
  },
  {
   "cell_type": "code",
   "execution_count": 219,
   "metadata": {
    "_cell_guid": "454c0b9d-5348-431e-9da6-3abca0d5f0d0",
    "_uuid": "820e7872e5e7deb742cfb9bb93e37ee2ceccd2e3",
    "collapsed": true
   },
   "outputs": [],
   "source": [
    "def native(country):\n",
    "    if country in [' United-States', ' Cuba', ' 0']:\n",
    "        return 'US'\n",
    "    elif country in [' England', ' Germany', ' Canada', ' Italy', ' France', ' Greece', ' Philippines']:\n",
    "        return 'Western'\n",
    "    elif country in [' Mexico', ' Puerto-Rico', ' Honduras', ' Jamaica', ' Columbia', ' Laos', ' Portugal', ' Haiti',\n",
    "                     ' Dominican-Republic', ' El-Salvador', ' Guatemala', ' Peru', \n",
    "                     ' Trinadad&Tobago', ' Outlying-US(Guam-USVI-etc)', ' Nicaragua', ' Vietnam', ' Holand-Netherlands' ]:\n",
    "        return 'Poor' \n",
    "    elif country in [' India', ' Iran', ' Cambodia', ' Taiwan', ' Japan', ' Yugoslavia', ' China', ' Hong']:\n",
    "        return 'Eastern'\n",
    "    elif country in [' South', ' Poland', ' Ireland', ' Hungary', ' Scotland', ' Thailand', ' Ecuador']:\n",
    "        return 'Poland team'\n",
    "    \n",
    "    else: \n",
    "        return country    "
   ]
  },
  {
   "cell_type": "code",
   "execution_count": 220,
   "metadata": {
    "_cell_guid": "c327b433-7587-42bc-be90-3b69e298b7d0",
    "_uuid": "60b838f3968facca02c9516a33c0b98a5143c3a8",
    "collapsed": true
   },
   "outputs": [],
   "source": [
    "train['Native country'] = train['Native country'].apply(native)\n",
    "test['Native country'] = test['Native country'].apply(native)"
   ]
  },
  {
   "cell_type": "code",
   "execution_count": 221,
   "metadata": {
    "_cell_guid": "e53fa207-cd9e-4402-9e56-bd9688c3548e",
    "_uuid": "28f811979ca3e6440378ff643728389c261380f2"
   },
   "outputs": [
    {
     "data": {
      "text/plain": [
       "US             29848\n",
       "Poor            1415\n",
       "Western          677\n",
       "Eastern          386\n",
       "Poland team      235\n",
       "Name: Native country, dtype: int64"
      ]
     },
     "execution_count": 221,
     "metadata": {},
     "output_type": "execute_result"
    }
   ],
   "source": [
    "train['Native country'].value_counts()"
   ]
  },
  {
   "cell_type": "code",
   "execution_count": 222,
   "metadata": {
    "_cell_guid": "3bdc3252-35bd-4ebd-91fa-292ccce1ed7b",
    "_uuid": "eadba7f05acd621e1778350a1dff93250a534b68"
   },
   "outputs": [
    {
     "data": {
      "image/png": "[encoded data removed]",
      "text/plain": [
       "<matplotlib.figure.Figure at 0x294e7025cf8>"
      ]
     },
     "metadata": {},
     "output_type": "display_data"
    }
   ],
   "source": [
    "sns.factorplot(x=\"Native country\",y=\"Income\",data=train,kind=\"bar\", size = 5, \n",
    "palette = \"muted\")\n",
    "plt.xticks(rotation=60);"
   ]
  },
  {
   "cell_type": "markdown",
   "metadata": {
    "_cell_guid": "b693d9ca-29e1-4082-8e3b-89d94fa742cd",
    "_uuid": "b11ee5d40519b9f84ec22c910d579caea92f2e71"
   },
   "source": [
    "## Parte_1B: Criando Dummys"
   ]
  },
  {
   "cell_type": "markdown",
   "metadata": {
    "_cell_guid": "ffef248c-214b-4b45-b7f8-05df2ad4925d",
    "_uuid": "b033aef5b53ac393eaec632186c774938d384820"
   },
   "source": [
    "Agora precisamos criar dummys para as variáveis categóricas usando o pd.get_dummies(). <br>\n",
    "Como esse método pode causar alguns problemas, mesclarmos os conjuntos de dados. Isso garante que as dimensões para ambos os conjuntos de dados sejam iguais às dos conjuntos de dados de treinamento e teste."
   ]
  },
  {
   "cell_type": "code",
   "execution_count": 223,
   "metadata": {
    "_cell_guid": "b6a7a0fd-1013-4273-aafe-6689d54074a1",
    "_uuid": "2b6d65462f680d145916fcd4b9057f135f55747d",
    "collapsed": true
   },
   "outputs": [],
   "source": [
    "#merge datasets\n",
    "joint = pd.concat([train, test], axis=0)\n",
    "# Renaming certain columns for better readability\n",
    "joint = joint.rename(columns={'Education num': 'Education_num', \n",
    "                        'Marital Status': 'Marital',\n",
    "                        'Capital Gain': 'Capital_Gain',\n",
    "                        'Capital Loss': 'Capital_Loss',\n",
    "                        'Hours/Week': 'Hours_Week',\n",
    "                        'Native country': 'Country'\n",
    "                                                })"
   ]
  },
  {
   "cell_type": "code",
   "execution_count": 224,
   "metadata": {
    "_cell_guid": "89f336bb-49a6-4eb8-9eba-6f37a542ccc7",
    "_uuid": "d55a86cbbdf4fa38fa64f72199c56ca1abb6bb7a",
    "collapsed": true,
    "scrolled": true
   },
   "outputs": [],
   "source": [
    "#joint.dtypes"
   ]
  },
  {
   "cell_type": "code",
   "execution_count": 225,
   "metadata": {
    "_cell_guid": "525cd5ec-17f2-4c25-8a07-89c594d64fc8",
    "_uuid": "57a74825249a144bdeb6acec4039f91559c77b10",
    "scrolled": false
   },
   "outputs": [
    {
     "name": "stdout",
     "output_type": "stream",
     "text": [
      "Workclass 7\n",
      "Education 9\n",
      "Marital 7\n",
      "Occupation 14\n",
      "Relationship 6\n",
      "Race 5\n",
      "Sex 2\n",
      "Country 5\n"
     ]
    }
   ],
   "source": [
    "#list of columns with dtype: object\n",
    "#axes[1] coluna\n",
    "#axes[0] linha\n",
    "categorical_features = joint.select_dtypes(include=['object']).axes[1] # retorna as vars que são do tipo objeto\n",
    "\n",
    "# unique: retorna os valores únicos\n",
    "# nunique: retorna o número de valores únicos\n",
    "for col in categorical_features:\n",
    "    print (col, joint[col].nunique()) # retorna as vars que são do tipo objeto e a quantidade de categorias em cada uma delas"
   ]
  },
  {
   "cell_type": "code",
   "execution_count": 226,
   "metadata": {
    "_cell_guid": "5c64f48a-a3ec-4918-9794-fbe9287c0fd5",
    "_uuid": "8110d73345f22085c35184cfbfa053eff9124416",
    "collapsed": true
   },
   "outputs": [],
   "source": [
    "#criando dummys para as variáveis categoricas\n",
    "for col in categorical_features:\n",
    "    joint = pd.concat([joint, pd.get_dummies(joint[col], prefix=col, prefix_sep='_')], axis=1)\n",
    "    joint.drop(col, axis=1, inplace=True)"
   ]
  },
  {
   "cell_type": "code",
   "execution_count": 227,
   "metadata": {
    "collapsed": true
   },
   "outputs": [],
   "source": [
    "# renomeando as variáveis\n",
    "new_columns = {}\n",
    "for i in joint.columns:\n",
    "    new_column = i.replace(\" \", \"\")\n",
    "    new_column = new_column.replace(\"-\", \"_\")\n",
    "    new_columns[i] = new_column\n",
    "\n",
    "joint = joint.rename(columns=new_columns)"
   ]
  },
  {
   "cell_type": "code",
   "execution_count": 228,
   "metadata": {
    "collapsed": true
   },
   "outputs": [],
   "source": [
    "#joint.columns"
   ]
  },
  {
   "cell_type": "code",
   "execution_count": 229,
   "metadata": {},
   "outputs": [
    {
     "data": {
      "text/html": [
       "<div>\n",
       "<style>\n",
       "    .dataframe thead tr:only-child th {\n",
       "        text-align: right;\n",
       "    }\n",
       "\n",
       "    .dataframe thead th {\n",
       "        text-align: left;\n",
       "    }\n",
       "\n",
       "    .dataframe tbody tr th {\n",
       "        vertical-align: top;\n",
       "    }\n",
       "</style>\n",
       "<table border=\"1\" class=\"dataframe\">\n",
       "  <thead>\n",
       "    <tr style=\"text-align: right;\">\n",
       "      <th></th>\n",
       "      <th>Age</th>\n",
       "      <th>fnlgwt</th>\n",
       "      <th>Education_num</th>\n",
       "      <th>Capital_Gain</th>\n",
       "      <th>Capital_Loss</th>\n",
       "      <th>Hours_Week</th>\n",
       "      <th>Income</th>\n",
       "      <th>Workclass_0</th>\n",
       "      <th>Workclass_Local_gov</th>\n",
       "      <th>Workclass_Never_worked</th>\n",
       "      <th>Workclass_Private</th>\n",
       "      <th>Workclass_Self_emp_inc</th>\n",
       "      <th>Workclass_Self_emp_not_inc</th>\n",
       "      <th>Workclass_State_gov</th>\n",
       "      <th>Education_Assoc_acdm</th>\n",
       "      <th>Education_Assoc_voc</th>\n",
       "      <th>Education_Bachelors</th>\n",
       "      <th>Education_Doctorate</th>\n",
       "      <th>Education_HS_grad</th>\n",
       "      <th>Education_Masters</th>\n",
       "      <th>Education_Primary</th>\n",
       "      <th>Education_Prof_school</th>\n",
       "      <th>Education_Some_college</th>\n",
       "      <th>Marital_Divorced</th>\n",
       "      <th>Marital_Married_AF_spouse</th>\n",
       "      <th>Marital_Married_civ_spouse</th>\n",
       "      <th>Marital_Married_spouse_absent</th>\n",
       "      <th>Marital_Never_married</th>\n",
       "      <th>Marital_Separated</th>\n",
       "      <th>Marital_Widowed</th>\n",
       "      <th>Occupation_Adm_clerical</th>\n",
       "      <th>Occupation_Armed_Forces</th>\n",
       "      <th>Occupation_Craft_repair</th>\n",
       "      <th>Occupation_Exec_managerial</th>\n",
       "      <th>Occupation_Farming_fishing</th>\n",
       "      <th>Occupation_Handlers_cleaners</th>\n",
       "      <th>Occupation_Machine_op_inspct</th>\n",
       "      <th>Occupation_Other_service</th>\n",
       "      <th>Occupation_Priv_house_serv</th>\n",
       "      <th>Occupation_Prof_specialty</th>\n",
       "      <th>Occupation_Protective_serv</th>\n",
       "      <th>Occupation_Sales</th>\n",
       "      <th>Occupation_Tech_support</th>\n",
       "      <th>Occupation_Transport_moving</th>\n",
       "      <th>Relationship_Husband</th>\n",
       "      <th>Relationship_Not_in_family</th>\n",
       "      <th>Relationship_Other_relative</th>\n",
       "      <th>Relationship_Own_child</th>\n",
       "      <th>Relationship_Unmarried</th>\n",
       "      <th>Relationship_Wife</th>\n",
       "      <th>Race_Amer_Indian_Eskimo</th>\n",
       "      <th>Race_Asian_Pac_Islander</th>\n",
       "      <th>Race_Black</th>\n",
       "      <th>Race_Other</th>\n",
       "      <th>Race_White</th>\n",
       "      <th>Sex_Female</th>\n",
       "      <th>Sex_Male</th>\n",
       "      <th>Country_Eastern</th>\n",
       "      <th>Country_Polandteam</th>\n",
       "      <th>Country_Poor</th>\n",
       "      <th>Country_US</th>\n",
       "      <th>Country_Western</th>\n",
       "    </tr>\n",
       "  </thead>\n",
       "  <tbody>\n",
       "    <tr>\n",
       "      <th>0</th>\n",
       "      <td>39</td>\n",
       "      <td>77516</td>\n",
       "      <td>13</td>\n",
       "      <td>2174</td>\n",
       "      <td>0</td>\n",
       "      <td>40</td>\n",
       "      <td>0</td>\n",
       "      <td>0</td>\n",
       "      <td>0</td>\n",
       "      <td>0</td>\n",
       "      <td>0</td>\n",
       "      <td>0</td>\n",
       "      <td>0</td>\n",
       "      <td>1</td>\n",
       "      <td>0</td>\n",
       "      <td>0</td>\n",
       "      <td>1</td>\n",
       "      <td>0</td>\n",
       "      <td>0</td>\n",
       "      <td>0</td>\n",
       "      <td>0</td>\n",
       "      <td>0</td>\n",
       "      <td>0</td>\n",
       "      <td>0</td>\n",
       "      <td>0</td>\n",
       "      <td>0</td>\n",
       "      <td>0</td>\n",
       "      <td>1</td>\n",
       "      <td>0</td>\n",
       "      <td>0</td>\n",
       "      <td>1</td>\n",
       "      <td>0</td>\n",
       "      <td>0</td>\n",
       "      <td>0</td>\n",
       "      <td>0</td>\n",
       "      <td>0</td>\n",
       "      <td>0</td>\n",
       "      <td>0</td>\n",
       "      <td>0</td>\n",
       "      <td>0</td>\n",
       "      <td>0</td>\n",
       "      <td>0</td>\n",
       "      <td>0</td>\n",
       "      <td>0</td>\n",
       "      <td>0</td>\n",
       "      <td>1</td>\n",
       "      <td>0</td>\n",
       "      <td>0</td>\n",
       "      <td>0</td>\n",
       "      <td>0</td>\n",
       "      <td>0</td>\n",
       "      <td>0</td>\n",
       "      <td>0</td>\n",
       "      <td>0</td>\n",
       "      <td>1</td>\n",
       "      <td>0</td>\n",
       "      <td>1</td>\n",
       "      <td>0</td>\n",
       "      <td>0</td>\n",
       "      <td>0</td>\n",
       "      <td>1</td>\n",
       "      <td>0</td>\n",
       "    </tr>\n",
       "    <tr>\n",
       "      <th>1</th>\n",
       "      <td>50</td>\n",
       "      <td>83311</td>\n",
       "      <td>13</td>\n",
       "      <td>0</td>\n",
       "      <td>0</td>\n",
       "      <td>13</td>\n",
       "      <td>0</td>\n",
       "      <td>0</td>\n",
       "      <td>0</td>\n",
       "      <td>0</td>\n",
       "      <td>0</td>\n",
       "      <td>0</td>\n",
       "      <td>1</td>\n",
       "      <td>0</td>\n",
       "      <td>0</td>\n",
       "      <td>0</td>\n",
       "      <td>1</td>\n",
       "      <td>0</td>\n",
       "      <td>0</td>\n",
       "      <td>0</td>\n",
       "      <td>0</td>\n",
       "      <td>0</td>\n",
       "      <td>0</td>\n",
       "      <td>0</td>\n",
       "      <td>0</td>\n",
       "      <td>1</td>\n",
       "      <td>0</td>\n",
       "      <td>0</td>\n",
       "      <td>0</td>\n",
       "      <td>0</td>\n",
       "      <td>0</td>\n",
       "      <td>0</td>\n",
       "      <td>0</td>\n",
       "      <td>1</td>\n",
       "      <td>0</td>\n",
       "      <td>0</td>\n",
       "      <td>0</td>\n",
       "      <td>0</td>\n",
       "      <td>0</td>\n",
       "      <td>0</td>\n",
       "      <td>0</td>\n",
       "      <td>0</td>\n",
       "      <td>0</td>\n",
       "      <td>0</td>\n",
       "      <td>1</td>\n",
       "      <td>0</td>\n",
       "      <td>0</td>\n",
       "      <td>0</td>\n",
       "      <td>0</td>\n",
       "      <td>0</td>\n",
       "      <td>0</td>\n",
       "      <td>0</td>\n",
       "      <td>0</td>\n",
       "      <td>0</td>\n",
       "      <td>1</td>\n",
       "      <td>0</td>\n",
       "      <td>1</td>\n",
       "      <td>0</td>\n",
       "      <td>0</td>\n",
       "      <td>0</td>\n",
       "      <td>1</td>\n",
       "      <td>0</td>\n",
       "    </tr>\n",
       "    <tr>\n",
       "      <th>2</th>\n",
       "      <td>38</td>\n",
       "      <td>215646</td>\n",
       "      <td>9</td>\n",
       "      <td>0</td>\n",
       "      <td>0</td>\n",
       "      <td>40</td>\n",
       "      <td>0</td>\n",
       "      <td>0</td>\n",
       "      <td>0</td>\n",
       "      <td>0</td>\n",
       "      <td>1</td>\n",
       "      <td>0</td>\n",
       "      <td>0</td>\n",
       "      <td>0</td>\n",
       "      <td>0</td>\n",
       "      <td>0</td>\n",
       "      <td>0</td>\n",
       "      <td>0</td>\n",
       "      <td>1</td>\n",
       "      <td>0</td>\n",
       "      <td>0</td>\n",
       "      <td>0</td>\n",
       "      <td>0</td>\n",
       "      <td>1</td>\n",
       "      <td>0</td>\n",
       "      <td>0</td>\n",
       "      <td>0</td>\n",
       "      <td>0</td>\n",
       "      <td>0</td>\n",
       "      <td>0</td>\n",
       "      <td>0</td>\n",
       "      <td>0</td>\n",
       "      <td>0</td>\n",
       "      <td>0</td>\n",
       "      <td>0</td>\n",
       "      <td>1</td>\n",
       "      <td>0</td>\n",
       "      <td>0</td>\n",
       "      <td>0</td>\n",
       "      <td>0</td>\n",
       "      <td>0</td>\n",
       "      <td>0</td>\n",
       "      <td>0</td>\n",
       "      <td>0</td>\n",
       "      <td>0</td>\n",
       "      <td>1</td>\n",
       "      <td>0</td>\n",
       "      <td>0</td>\n",
       "      <td>0</td>\n",
       "      <td>0</td>\n",
       "      <td>0</td>\n",
       "      <td>0</td>\n",
       "      <td>0</td>\n",
       "      <td>0</td>\n",
       "      <td>1</td>\n",
       "      <td>0</td>\n",
       "      <td>1</td>\n",
       "      <td>0</td>\n",
       "      <td>0</td>\n",
       "      <td>0</td>\n",
       "      <td>1</td>\n",
       "      <td>0</td>\n",
       "    </tr>\n",
       "    <tr>\n",
       "      <th>3</th>\n",
       "      <td>53</td>\n",
       "      <td>234721</td>\n",
       "      <td>7</td>\n",
       "      <td>0</td>\n",
       "      <td>0</td>\n",
       "      <td>40</td>\n",
       "      <td>0</td>\n",
       "      <td>0</td>\n",
       "      <td>0</td>\n",
       "      <td>0</td>\n",
       "      <td>1</td>\n",
       "      <td>0</td>\n",
       "      <td>0</td>\n",
       "      <td>0</td>\n",
       "      <td>0</td>\n",
       "      <td>0</td>\n",
       "      <td>0</td>\n",
       "      <td>0</td>\n",
       "      <td>0</td>\n",
       "      <td>0</td>\n",
       "      <td>1</td>\n",
       "      <td>0</td>\n",
       "      <td>0</td>\n",
       "      <td>0</td>\n",
       "      <td>0</td>\n",
       "      <td>1</td>\n",
       "      <td>0</td>\n",
       "      <td>0</td>\n",
       "      <td>0</td>\n",
       "      <td>0</td>\n",
       "      <td>0</td>\n",
       "      <td>0</td>\n",
       "      <td>0</td>\n",
       "      <td>0</td>\n",
       "      <td>0</td>\n",
       "      <td>1</td>\n",
       "      <td>0</td>\n",
       "      <td>0</td>\n",
       "      <td>0</td>\n",
       "      <td>0</td>\n",
       "      <td>0</td>\n",
       "      <td>0</td>\n",
       "      <td>0</td>\n",
       "      <td>0</td>\n",
       "      <td>1</td>\n",
       "      <td>0</td>\n",
       "      <td>0</td>\n",
       "      <td>0</td>\n",
       "      <td>0</td>\n",
       "      <td>0</td>\n",
       "      <td>0</td>\n",
       "      <td>0</td>\n",
       "      <td>1</td>\n",
       "      <td>0</td>\n",
       "      <td>0</td>\n",
       "      <td>0</td>\n",
       "      <td>1</td>\n",
       "      <td>0</td>\n",
       "      <td>0</td>\n",
       "      <td>0</td>\n",
       "      <td>1</td>\n",
       "      <td>0</td>\n",
       "    </tr>\n",
       "    <tr>\n",
       "      <th>4</th>\n",
       "      <td>28</td>\n",
       "      <td>338409</td>\n",
       "      <td>13</td>\n",
       "      <td>0</td>\n",
       "      <td>0</td>\n",
       "      <td>40</td>\n",
       "      <td>0</td>\n",
       "      <td>0</td>\n",
       "      <td>0</td>\n",
       "      <td>0</td>\n",
       "      <td>1</td>\n",
       "      <td>0</td>\n",
       "      <td>0</td>\n",
       "      <td>0</td>\n",
       "      <td>0</td>\n",
       "      <td>0</td>\n",
       "      <td>1</td>\n",
       "      <td>0</td>\n",
       "      <td>0</td>\n",
       "      <td>0</td>\n",
       "      <td>0</td>\n",
       "      <td>0</td>\n",
       "      <td>0</td>\n",
       "      <td>0</td>\n",
       "      <td>0</td>\n",
       "      <td>1</td>\n",
       "      <td>0</td>\n",
       "      <td>0</td>\n",
       "      <td>0</td>\n",
       "      <td>0</td>\n",
       "      <td>0</td>\n",
       "      <td>0</td>\n",
       "      <td>0</td>\n",
       "      <td>0</td>\n",
       "      <td>0</td>\n",
       "      <td>0</td>\n",
       "      <td>0</td>\n",
       "      <td>0</td>\n",
       "      <td>0</td>\n",
       "      <td>1</td>\n",
       "      <td>0</td>\n",
       "      <td>0</td>\n",
       "      <td>0</td>\n",
       "      <td>0</td>\n",
       "      <td>0</td>\n",
       "      <td>0</td>\n",
       "      <td>0</td>\n",
       "      <td>0</td>\n",
       "      <td>0</td>\n",
       "      <td>1</td>\n",
       "      <td>0</td>\n",
       "      <td>0</td>\n",
       "      <td>1</td>\n",
       "      <td>0</td>\n",
       "      <td>0</td>\n",
       "      <td>1</td>\n",
       "      <td>0</td>\n",
       "      <td>0</td>\n",
       "      <td>0</td>\n",
       "      <td>0</td>\n",
       "      <td>1</td>\n",
       "      <td>0</td>\n",
       "    </tr>\n",
       "  </tbody>\n",
       "</table>\n",
       "</div>"
      ],
      "text/plain": [
       "   Age  fnlgwt  Education_num  Capital_Gain  Capital_Loss  Hours_Week  Income  \\\n",
       "0   39   77516             13          2174             0          40       0   \n",
       "1   50   83311             13             0             0          13       0   \n",
       "2   38  215646              9             0             0          40       0   \n",
       "3   53  234721              7             0             0          40       0   \n",
       "4   28  338409             13             0             0          40       0   \n",
       "\n",
       "   Workclass_0  Workclass_Local_gov  Workclass_Never_worked  \\\n",
       "0            0                    0                       0   \n",
       "1            0                    0                       0   \n",
       "2            0                    0                       0   \n",
       "3            0                    0                       0   \n",
       "4            0                    0                       0   \n",
       "\n",
       "   Workclass_Private  Workclass_Self_emp_inc  Workclass_Self_emp_not_inc  \\\n",
       "0                  0                       0                           0   \n",
       "1                  0                       0                           1   \n",
       "2                  1                       0                           0   \n",
       "3                  1                       0                           0   \n",
       "4                  1                       0                           0   \n",
       "\n",
       "   Workclass_State_gov  Education_Assoc_acdm  Education_Assoc_voc  \\\n",
       "0                    1                     0                    0   \n",
       "1                    0                     0                    0   \n",
       "2                    0                     0                    0   \n",
       "3                    0                     0                    0   \n",
       "4                    0                     0                    0   \n",
       "\n",
       "   Education_Bachelors  Education_Doctorate  Education_HS_grad  \\\n",
       "0                    1                    0                  0   \n",
       "1                    1                    0                  0   \n",
       "2                    0                    0                  1   \n",
       "3                    0                    0                  0   \n",
       "4                    1                    0                  0   \n",
       "\n",
       "   Education_Masters  Education_Primary  Education_Prof_school  \\\n",
       "0                  0                  0                      0   \n",
       "1                  0                  0                      0   \n",
       "2                  0                  0                      0   \n",
       "3                  0                  1                      0   \n",
       "4                  0                  0                      0   \n",
       "\n",
       "   Education_Some_college  Marital_Divorced  Marital_Married_AF_spouse  \\\n",
       "0                       0                 0                          0   \n",
       "1                       0                 0                          0   \n",
       "2                       0                 1                          0   \n",
       "3                       0                 0                          0   \n",
       "4                       0                 0                          0   \n",
       "\n",
       "   Marital_Married_civ_spouse  Marital_Married_spouse_absent  \\\n",
       "0                           0                              0   \n",
       "1                           1                              0   \n",
       "2                           0                              0   \n",
       "3                           1                              0   \n",
       "4                           1                              0   \n",
       "\n",
       "   Marital_Never_married  Marital_Separated  Marital_Widowed  \\\n",
       "0                      1                  0                0   \n",
       "1                      0                  0                0   \n",
       "2                      0                  0                0   \n",
       "3                      0                  0                0   \n",
       "4                      0                  0                0   \n",
       "\n",
       "   Occupation_Adm_clerical  Occupation_Armed_Forces  Occupation_Craft_repair  \\\n",
       "0                        1                        0                        0   \n",
       "1                        0                        0                        0   \n",
       "2                        0                        0                        0   \n",
       "3                        0                        0                        0   \n",
       "4                        0                        0                        0   \n",
       "\n",
       "   Occupation_Exec_managerial  Occupation_Farming_fishing  \\\n",
       "0                           0                           0   \n",
       "1                           1                           0   \n",
       "2                           0                           0   \n",
       "3                           0                           0   \n",
       "4                           0                           0   \n",
       "\n",
       "   Occupation_Handlers_cleaners  Occupation_Machine_op_inspct  \\\n",
       "0                             0                             0   \n",
       "1                             0                             0   \n",
       "2                             1                             0   \n",
       "3                             1                             0   \n",
       "4                             0                             0   \n",
       "\n",
       "   Occupation_Other_service  Occupation_Priv_house_serv  \\\n",
       "0                         0                           0   \n",
       "1                         0                           0   \n",
       "2                         0                           0   \n",
       "3                         0                           0   \n",
       "4                         0                           0   \n",
       "\n",
       "   Occupation_Prof_specialty  Occupation_Protective_serv  Occupation_Sales  \\\n",
       "0                          0                           0                 0   \n",
       "1                          0                           0                 0   \n",
       "2                          0                           0                 0   \n",
       "3                          0                           0                 0   \n",
       "4                          1                           0                 0   \n",
       "\n",
       "   Occupation_Tech_support  Occupation_Transport_moving  Relationship_Husband  \\\n",
       "0                        0                            0                     0   \n",
       "1                        0                            0                     1   \n",
       "2                        0                            0                     0   \n",
       "3                        0                            0                     1   \n",
       "4                        0                            0                     0   \n",
       "\n",
       "   Relationship_Not_in_family  Relationship_Other_relative  \\\n",
       "0                           1                            0   \n",
       "1                           0                            0   \n",
       "2                           1                            0   \n",
       "3                           0                            0   \n",
       "4                           0                            0   \n",
       "\n",
       "   Relationship_Own_child  Relationship_Unmarried  Relationship_Wife  \\\n",
       "0                       0                       0                  0   \n",
       "1                       0                       0                  0   \n",
       "2                       0                       0                  0   \n",
       "3                       0                       0                  0   \n",
       "4                       0                       0                  1   \n",
       "\n",
       "   Race_Amer_Indian_Eskimo  Race_Asian_Pac_Islander  Race_Black  Race_Other  \\\n",
       "0                        0                        0           0           0   \n",
       "1                        0                        0           0           0   \n",
       "2                        0                        0           0           0   \n",
       "3                        0                        0           1           0   \n",
       "4                        0                        0           1           0   \n",
       "\n",
       "   Race_White  Sex_Female  Sex_Male  Country_Eastern  Country_Polandteam  \\\n",
       "0           1           0         1                0                   0   \n",
       "1           1           0         1                0                   0   \n",
       "2           1           0         1                0                   0   \n",
       "3           0           0         1                0                   0   \n",
       "4           0           1         0                0                   0   \n",
       "\n",
       "   Country_Poor  Country_US  Country_Western  \n",
       "0             0           1                0  \n",
       "1             0           1                0  \n",
       "2             0           1                0  \n",
       "3             0           1                0  \n",
       "4             0           1                0  "
      ]
     },
     "execution_count": 229,
     "metadata": {},
     "output_type": "execute_result"
    }
   ],
   "source": [
    "joint.head()"
   ]
  },
  {
   "cell_type": "markdown",
   "metadata": {
    "_cell_guid": "58a12f06-5ffc-4f95-b445-df2f248ffbbe",
    "_uuid": "c326860ba9cbe200b508af0ce8769b41d26d25f0"
   },
   "source": [
    "Separando novamente a base em treinamento e teste."
   ]
  },
  {
   "cell_type": "code",
   "execution_count": 230,
   "metadata": {
    "_cell_guid": "148e24dc-0bda-45b7-9e37-8a4897fa9984",
    "_uuid": "38a86c0194a8b2ff179bc775a4dd68dc90c5a2a7",
    "collapsed": true
   },
   "outputs": [],
   "source": [
    "train = joint.head(train.shape[0])\n",
    "test = joint.tail(test.shape[0])"
   ]
  },
  {
   "cell_type": "markdown",
   "metadata": {
    "_cell_guid": "e761bb22-08fd-45f2-9b9f-846388186765",
    "_uuid": "f6ea7a7add55dbdeedb5714118bb247e08273baf"
   },
   "source": [
    "Dividindo o data frame em inputs e target"
   ]
  },
  {
   "cell_type": "code",
   "execution_count": 231,
   "metadata": {
    "_cell_guid": "f0c7f381-f86e-4aed-947e-1284fcb14c75",
    "_uuid": "e7d9bfed3685ad7835bf5152c2cc7ce442dabc52",
    "collapsed": true
   },
   "outputs": [],
   "source": [
    "Xtrain = train.drop('Income', axis=1)\n",
    "Ttrain = train['Income']\n",
    "\n",
    "Xtest = test.drop('Income', axis=1)\n",
    "Ttest = test['Income']\n",
    "\n",
    "#scaler = StandardScaler()\n",
    "#scaler.fit(Xtrain)\n",
    "#Xtrain = scaler.transform(Xtrain)\n",
    "#Xtest = scaler.transform(Xtest)"
   ]
  },
  {
   "cell_type": "code",
   "execution_count": 232,
   "metadata": {},
   "outputs": [
    {
     "data": {
      "text/html": [
       "<div>\n",
       "<style>\n",
       "    .dataframe thead tr:only-child th {\n",
       "        text-align: right;\n",
       "    }\n",
       "\n",
       "    .dataframe thead th {\n",
       "        text-align: left;\n",
       "    }\n",
       "\n",
       "    .dataframe tbody tr th {\n",
       "        vertical-align: top;\n",
       "    }\n",
       "</style>\n",
       "<table border=\"1\" class=\"dataframe\">\n",
       "  <thead>\n",
       "    <tr style=\"text-align: right;\">\n",
       "      <th></th>\n",
       "      <th>Age</th>\n",
       "      <th>fnlgwt</th>\n",
       "      <th>Education_num</th>\n",
       "      <th>Capital_Gain</th>\n",
       "      <th>Capital_Loss</th>\n",
       "      <th>Hours_Week</th>\n",
       "      <th>Workclass_0</th>\n",
       "      <th>Workclass_Local_gov</th>\n",
       "      <th>Workclass_Never_worked</th>\n",
       "      <th>Workclass_Private</th>\n",
       "      <th>Workclass_Self_emp_inc</th>\n",
       "      <th>Workclass_Self_emp_not_inc</th>\n",
       "      <th>Workclass_State_gov</th>\n",
       "      <th>Education_Assoc_acdm</th>\n",
       "      <th>Education_Assoc_voc</th>\n",
       "      <th>Education_Bachelors</th>\n",
       "      <th>Education_Doctorate</th>\n",
       "      <th>Education_HS_grad</th>\n",
       "      <th>Education_Masters</th>\n",
       "      <th>Education_Primary</th>\n",
       "      <th>Education_Prof_school</th>\n",
       "      <th>Education_Some_college</th>\n",
       "      <th>Marital_Divorced</th>\n",
       "      <th>Marital_Married_AF_spouse</th>\n",
       "      <th>Marital_Married_civ_spouse</th>\n",
       "      <th>Marital_Married_spouse_absent</th>\n",
       "      <th>Marital_Never_married</th>\n",
       "      <th>Marital_Separated</th>\n",
       "      <th>Marital_Widowed</th>\n",
       "      <th>Occupation_Adm_clerical</th>\n",
       "      <th>Occupation_Armed_Forces</th>\n",
       "      <th>Occupation_Craft_repair</th>\n",
       "      <th>Occupation_Exec_managerial</th>\n",
       "      <th>Occupation_Farming_fishing</th>\n",
       "      <th>Occupation_Handlers_cleaners</th>\n",
       "      <th>Occupation_Machine_op_inspct</th>\n",
       "      <th>Occupation_Other_service</th>\n",
       "      <th>Occupation_Priv_house_serv</th>\n",
       "      <th>Occupation_Prof_specialty</th>\n",
       "      <th>Occupation_Protective_serv</th>\n",
       "      <th>Occupation_Sales</th>\n",
       "      <th>Occupation_Tech_support</th>\n",
       "      <th>Occupation_Transport_moving</th>\n",
       "      <th>Relationship_Husband</th>\n",
       "      <th>Relationship_Not_in_family</th>\n",
       "      <th>Relationship_Other_relative</th>\n",
       "      <th>Relationship_Own_child</th>\n",
       "      <th>Relationship_Unmarried</th>\n",
       "      <th>Relationship_Wife</th>\n",
       "      <th>Race_Amer_Indian_Eskimo</th>\n",
       "      <th>Race_Asian_Pac_Islander</th>\n",
       "      <th>Race_Black</th>\n",
       "      <th>Race_Other</th>\n",
       "      <th>Race_White</th>\n",
       "      <th>Sex_Female</th>\n",
       "      <th>Sex_Male</th>\n",
       "      <th>Country_Eastern</th>\n",
       "      <th>Country_Polandteam</th>\n",
       "      <th>Country_Poor</th>\n",
       "      <th>Country_US</th>\n",
       "      <th>Country_Western</th>\n",
       "    </tr>\n",
       "  </thead>\n",
       "  <tbody>\n",
       "    <tr>\n",
       "      <th>0</th>\n",
       "      <td>39</td>\n",
       "      <td>77516</td>\n",
       "      <td>13</td>\n",
       "      <td>2174</td>\n",
       "      <td>0</td>\n",
       "      <td>40</td>\n",
       "      <td>0</td>\n",
       "      <td>0</td>\n",
       "      <td>0</td>\n",
       "      <td>0</td>\n",
       "      <td>0</td>\n",
       "      <td>0</td>\n",
       "      <td>1</td>\n",
       "      <td>0</td>\n",
       "      <td>0</td>\n",
       "      <td>1</td>\n",
       "      <td>0</td>\n",
       "      <td>0</td>\n",
       "      <td>0</td>\n",
       "      <td>0</td>\n",
       "      <td>0</td>\n",
       "      <td>0</td>\n",
       "      <td>0</td>\n",
       "      <td>0</td>\n",
       "      <td>0</td>\n",
       "      <td>0</td>\n",
       "      <td>1</td>\n",
       "      <td>0</td>\n",
       "      <td>0</td>\n",
       "      <td>1</td>\n",
       "      <td>0</td>\n",
       "      <td>0</td>\n",
       "      <td>0</td>\n",
       "      <td>0</td>\n",
       "      <td>0</td>\n",
       "      <td>0</td>\n",
       "      <td>0</td>\n",
       "      <td>0</td>\n",
       "      <td>0</td>\n",
       "      <td>0</td>\n",
       "      <td>0</td>\n",
       "      <td>0</td>\n",
       "      <td>0</td>\n",
       "      <td>0</td>\n",
       "      <td>1</td>\n",
       "      <td>0</td>\n",
       "      <td>0</td>\n",
       "      <td>0</td>\n",
       "      <td>0</td>\n",
       "      <td>0</td>\n",
       "      <td>0</td>\n",
       "      <td>0</td>\n",
       "      <td>0</td>\n",
       "      <td>1</td>\n",
       "      <td>0</td>\n",
       "      <td>1</td>\n",
       "      <td>0</td>\n",
       "      <td>0</td>\n",
       "      <td>0</td>\n",
       "      <td>1</td>\n",
       "      <td>0</td>\n",
       "    </tr>\n",
       "    <tr>\n",
       "      <th>1</th>\n",
       "      <td>50</td>\n",
       "      <td>83311</td>\n",
       "      <td>13</td>\n",
       "      <td>0</td>\n",
       "      <td>0</td>\n",
       "      <td>13</td>\n",
       "      <td>0</td>\n",
       "      <td>0</td>\n",
       "      <td>0</td>\n",
       "      <td>0</td>\n",
       "      <td>0</td>\n",
       "      <td>1</td>\n",
       "      <td>0</td>\n",
       "      <td>0</td>\n",
       "      <td>0</td>\n",
       "      <td>1</td>\n",
       "      <td>0</td>\n",
       "      <td>0</td>\n",
       "      <td>0</td>\n",
       "      <td>0</td>\n",
       "      <td>0</td>\n",
       "      <td>0</td>\n",
       "      <td>0</td>\n",
       "      <td>0</td>\n",
       "      <td>1</td>\n",
       "      <td>0</td>\n",
       "      <td>0</td>\n",
       "      <td>0</td>\n",
       "      <td>0</td>\n",
       "      <td>0</td>\n",
       "      <td>0</td>\n",
       "      <td>0</td>\n",
       "      <td>1</td>\n",
       "      <td>0</td>\n",
       "      <td>0</td>\n",
       "      <td>0</td>\n",
       "      <td>0</td>\n",
       "      <td>0</td>\n",
       "      <td>0</td>\n",
       "      <td>0</td>\n",
       "      <td>0</td>\n",
       "      <td>0</td>\n",
       "      <td>0</td>\n",
       "      <td>1</td>\n",
       "      <td>0</td>\n",
       "      <td>0</td>\n",
       "      <td>0</td>\n",
       "      <td>0</td>\n",
       "      <td>0</td>\n",
       "      <td>0</td>\n",
       "      <td>0</td>\n",
       "      <td>0</td>\n",
       "      <td>0</td>\n",
       "      <td>1</td>\n",
       "      <td>0</td>\n",
       "      <td>1</td>\n",
       "      <td>0</td>\n",
       "      <td>0</td>\n",
       "      <td>0</td>\n",
       "      <td>1</td>\n",
       "      <td>0</td>\n",
       "    </tr>\n",
       "    <tr>\n",
       "      <th>2</th>\n",
       "      <td>38</td>\n",
       "      <td>215646</td>\n",
       "      <td>9</td>\n",
       "      <td>0</td>\n",
       "      <td>0</td>\n",
       "      <td>40</td>\n",
       "      <td>0</td>\n",
       "      <td>0</td>\n",
       "      <td>0</td>\n",
       "      <td>1</td>\n",
       "      <td>0</td>\n",
       "      <td>0</td>\n",
       "      <td>0</td>\n",
       "      <td>0</td>\n",
       "      <td>0</td>\n",
       "      <td>0</td>\n",
       "      <td>0</td>\n",
       "      <td>1</td>\n",
       "      <td>0</td>\n",
       "      <td>0</td>\n",
       "      <td>0</td>\n",
       "      <td>0</td>\n",
       "      <td>1</td>\n",
       "      <td>0</td>\n",
       "      <td>0</td>\n",
       "      <td>0</td>\n",
       "      <td>0</td>\n",
       "      <td>0</td>\n",
       "      <td>0</td>\n",
       "      <td>0</td>\n",
       "      <td>0</td>\n",
       "      <td>0</td>\n",
       "      <td>0</td>\n",
       "      <td>0</td>\n",
       "      <td>1</td>\n",
       "      <td>0</td>\n",
       "      <td>0</td>\n",
       "      <td>0</td>\n",
       "      <td>0</td>\n",
       "      <td>0</td>\n",
       "      <td>0</td>\n",
       "      <td>0</td>\n",
       "      <td>0</td>\n",
       "      <td>0</td>\n",
       "      <td>1</td>\n",
       "      <td>0</td>\n",
       "      <td>0</td>\n",
       "      <td>0</td>\n",
       "      <td>0</td>\n",
       "      <td>0</td>\n",
       "      <td>0</td>\n",
       "      <td>0</td>\n",
       "      <td>0</td>\n",
       "      <td>1</td>\n",
       "      <td>0</td>\n",
       "      <td>1</td>\n",
       "      <td>0</td>\n",
       "      <td>0</td>\n",
       "      <td>0</td>\n",
       "      <td>1</td>\n",
       "      <td>0</td>\n",
       "    </tr>\n",
       "    <tr>\n",
       "      <th>3</th>\n",
       "      <td>53</td>\n",
       "      <td>234721</td>\n",
       "      <td>7</td>\n",
       "      <td>0</td>\n",
       "      <td>0</td>\n",
       "      <td>40</td>\n",
       "      <td>0</td>\n",
       "      <td>0</td>\n",
       "      <td>0</td>\n",
       "      <td>1</td>\n",
       "      <td>0</td>\n",
       "      <td>0</td>\n",
       "      <td>0</td>\n",
       "      <td>0</td>\n",
       "      <td>0</td>\n",
       "      <td>0</td>\n",
       "      <td>0</td>\n",
       "      <td>0</td>\n",
       "      <td>0</td>\n",
       "      <td>1</td>\n",
       "      <td>0</td>\n",
       "      <td>0</td>\n",
       "      <td>0</td>\n",
       "      <td>0</td>\n",
       "      <td>1</td>\n",
       "      <td>0</td>\n",
       "      <td>0</td>\n",
       "      <td>0</td>\n",
       "      <td>0</td>\n",
       "      <td>0</td>\n",
       "      <td>0</td>\n",
       "      <td>0</td>\n",
       "      <td>0</td>\n",
       "      <td>0</td>\n",
       "      <td>1</td>\n",
       "      <td>0</td>\n",
       "      <td>0</td>\n",
       "      <td>0</td>\n",
       "      <td>0</td>\n",
       "      <td>0</td>\n",
       "      <td>0</td>\n",
       "      <td>0</td>\n",
       "      <td>0</td>\n",
       "      <td>1</td>\n",
       "      <td>0</td>\n",
       "      <td>0</td>\n",
       "      <td>0</td>\n",
       "      <td>0</td>\n",
       "      <td>0</td>\n",
       "      <td>0</td>\n",
       "      <td>0</td>\n",
       "      <td>1</td>\n",
       "      <td>0</td>\n",
       "      <td>0</td>\n",
       "      <td>0</td>\n",
       "      <td>1</td>\n",
       "      <td>0</td>\n",
       "      <td>0</td>\n",
       "      <td>0</td>\n",
       "      <td>1</td>\n",
       "      <td>0</td>\n",
       "    </tr>\n",
       "    <tr>\n",
       "      <th>4</th>\n",
       "      <td>28</td>\n",
       "      <td>338409</td>\n",
       "      <td>13</td>\n",
       "      <td>0</td>\n",
       "      <td>0</td>\n",
       "      <td>40</td>\n",
       "      <td>0</td>\n",
       "      <td>0</td>\n",
       "      <td>0</td>\n",
       "      <td>1</td>\n",
       "      <td>0</td>\n",
       "      <td>0</td>\n",
       "      <td>0</td>\n",
       "      <td>0</td>\n",
       "      <td>0</td>\n",
       "      <td>1</td>\n",
       "      <td>0</td>\n",
       "      <td>0</td>\n",
       "      <td>0</td>\n",
       "      <td>0</td>\n",
       "      <td>0</td>\n",
       "      <td>0</td>\n",
       "      <td>0</td>\n",
       "      <td>0</td>\n",
       "      <td>1</td>\n",
       "      <td>0</td>\n",
       "      <td>0</td>\n",
       "      <td>0</td>\n",
       "      <td>0</td>\n",
       "      <td>0</td>\n",
       "      <td>0</td>\n",
       "      <td>0</td>\n",
       "      <td>0</td>\n",
       "      <td>0</td>\n",
       "      <td>0</td>\n",
       "      <td>0</td>\n",
       "      <td>0</td>\n",
       "      <td>0</td>\n",
       "      <td>1</td>\n",
       "      <td>0</td>\n",
       "      <td>0</td>\n",
       "      <td>0</td>\n",
       "      <td>0</td>\n",
       "      <td>0</td>\n",
       "      <td>0</td>\n",
       "      <td>0</td>\n",
       "      <td>0</td>\n",
       "      <td>0</td>\n",
       "      <td>1</td>\n",
       "      <td>0</td>\n",
       "      <td>0</td>\n",
       "      <td>1</td>\n",
       "      <td>0</td>\n",
       "      <td>0</td>\n",
       "      <td>1</td>\n",
       "      <td>0</td>\n",
       "      <td>0</td>\n",
       "      <td>0</td>\n",
       "      <td>0</td>\n",
       "      <td>1</td>\n",
       "      <td>0</td>\n",
       "    </tr>\n",
       "  </tbody>\n",
       "</table>\n",
       "</div>"
      ],
      "text/plain": [
       "   Age  fnlgwt  Education_num  Capital_Gain  Capital_Loss  Hours_Week  \\\n",
       "0   39   77516             13          2174             0          40   \n",
       "1   50   83311             13             0             0          13   \n",
       "2   38  215646              9             0             0          40   \n",
       "3   53  234721              7             0             0          40   \n",
       "4   28  338409             13             0             0          40   \n",
       "\n",
       "   Workclass_0  Workclass_Local_gov  Workclass_Never_worked  \\\n",
       "0            0                    0                       0   \n",
       "1            0                    0                       0   \n",
       "2            0                    0                       0   \n",
       "3            0                    0                       0   \n",
       "4            0                    0                       0   \n",
       "\n",
       "   Workclass_Private  Workclass_Self_emp_inc  Workclass_Self_emp_not_inc  \\\n",
       "0                  0                       0                           0   \n",
       "1                  0                       0                           1   \n",
       "2                  1                       0                           0   \n",
       "3                  1                       0                           0   \n",
       "4                  1                       0                           0   \n",
       "\n",
       "   Workclass_State_gov  Education_Assoc_acdm  Education_Assoc_voc  \\\n",
       "0                    1                     0                    0   \n",
       "1                    0                     0                    0   \n",
       "2                    0                     0                    0   \n",
       "3                    0                     0                    0   \n",
       "4                    0                     0                    0   \n",
       "\n",
       "   Education_Bachelors  Education_Doctorate  Education_HS_grad  \\\n",
       "0                    1                    0                  0   \n",
       "1                    1                    0                  0   \n",
       "2                    0                    0                  1   \n",
       "3                    0                    0                  0   \n",
       "4                    1                    0                  0   \n",
       "\n",
       "   Education_Masters  Education_Primary  Education_Prof_school  \\\n",
       "0                  0                  0                      0   \n",
       "1                  0                  0                      0   \n",
       "2                  0                  0                      0   \n",
       "3                  0                  1                      0   \n",
       "4                  0                  0                      0   \n",
       "\n",
       "   Education_Some_college  Marital_Divorced  Marital_Married_AF_spouse  \\\n",
       "0                       0                 0                          0   \n",
       "1                       0                 0                          0   \n",
       "2                       0                 1                          0   \n",
       "3                       0                 0                          0   \n",
       "4                       0                 0                          0   \n",
       "\n",
       "   Marital_Married_civ_spouse  Marital_Married_spouse_absent  \\\n",
       "0                           0                              0   \n",
       "1                           1                              0   \n",
       "2                           0                              0   \n",
       "3                           1                              0   \n",
       "4                           1                              0   \n",
       "\n",
       "   Marital_Never_married  Marital_Separated  Marital_Widowed  \\\n",
       "0                      1                  0                0   \n",
       "1                      0                  0                0   \n",
       "2                      0                  0                0   \n",
       "3                      0                  0                0   \n",
       "4                      0                  0                0   \n",
       "\n",
       "   Occupation_Adm_clerical  Occupation_Armed_Forces  Occupation_Craft_repair  \\\n",
       "0                        1                        0                        0   \n",
       "1                        0                        0                        0   \n",
       "2                        0                        0                        0   \n",
       "3                        0                        0                        0   \n",
       "4                        0                        0                        0   \n",
       "\n",
       "   Occupation_Exec_managerial  Occupation_Farming_fishing  \\\n",
       "0                           0                           0   \n",
       "1                           1                           0   \n",
       "2                           0                           0   \n",
       "3                           0                           0   \n",
       "4                           0                           0   \n",
       "\n",
       "   Occupation_Handlers_cleaners  Occupation_Machine_op_inspct  \\\n",
       "0                             0                             0   \n",
       "1                             0                             0   \n",
       "2                             1                             0   \n",
       "3                             1                             0   \n",
       "4                             0                             0   \n",
       "\n",
       "   Occupation_Other_service  Occupation_Priv_house_serv  \\\n",
       "0                         0                           0   \n",
       "1                         0                           0   \n",
       "2                         0                           0   \n",
       "3                         0                           0   \n",
       "4                         0                           0   \n",
       "\n",
       "   Occupation_Prof_specialty  Occupation_Protective_serv  Occupation_Sales  \\\n",
       "0                          0                           0                 0   \n",
       "1                          0                           0                 0   \n",
       "2                          0                           0                 0   \n",
       "3                          0                           0                 0   \n",
       "4                          1                           0                 0   \n",
       "\n",
       "   Occupation_Tech_support  Occupation_Transport_moving  Relationship_Husband  \\\n",
       "0                        0                            0                     0   \n",
       "1                        0                            0                     1   \n",
       "2                        0                            0                     0   \n",
       "3                        0                            0                     1   \n",
       "4                        0                            0                     0   \n",
       "\n",
       "   Relationship_Not_in_family  Relationship_Other_relative  \\\n",
       "0                           1                            0   \n",
       "1                           0                            0   \n",
       "2                           1                            0   \n",
       "3                           0                            0   \n",
       "4                           0                            0   \n",
       "\n",
       "   Relationship_Own_child  Relationship_Unmarried  Relationship_Wife  \\\n",
       "0                       0                       0                  0   \n",
       "1                       0                       0                  0   \n",
       "2                       0                       0                  0   \n",
       "3                       0                       0                  0   \n",
       "4                       0                       0                  1   \n",
       "\n",
       "   Race_Amer_Indian_Eskimo  Race_Asian_Pac_Islander  Race_Black  Race_Other  \\\n",
       "0                        0                        0           0           0   \n",
       "1                        0                        0           0           0   \n",
       "2                        0                        0           0           0   \n",
       "3                        0                        0           1           0   \n",
       "4                        0                        0           1           0   \n",
       "\n",
       "   Race_White  Sex_Female  Sex_Male  Country_Eastern  Country_Polandteam  \\\n",
       "0           1           0         1                0                   0   \n",
       "1           1           0         1                0                   0   \n",
       "2           1           0         1                0                   0   \n",
       "3           0           0         1                0                   0   \n",
       "4           0           1         0                0                   0   \n",
       "\n",
       "   Country_Poor  Country_US  Country_Western  \n",
       "0             0           1                0  \n",
       "1             0           1                0  \n",
       "2             0           1                0  \n",
       "3             0           1                0  \n",
       "4             0           1                0  "
      ]
     },
     "execution_count": 232,
     "metadata": {},
     "output_type": "execute_result"
    }
   ],
   "source": [
    "Xtrain.head()"
   ]
  },
  {
   "cell_type": "markdown",
   "metadata": {},
   "source": [
    "## Parte_1C: Verificando a correlação entre as variáveis Dummy para cada var_original"
   ]
  },
  {
   "cell_type": "code",
   "execution_count": 233,
   "metadata": {
    "scrolled": true
   },
   "outputs": [
    {
     "data": {
      "text/html": [
       "<div>\n",
       "<style>\n",
       "    .dataframe thead tr:only-child th {\n",
       "        text-align: right;\n",
       "    }\n",
       "\n",
       "    .dataframe thead th {\n",
       "        text-align: left;\n",
       "    }\n",
       "\n",
       "    .dataframe tbody tr th {\n",
       "        vertical-align: top;\n",
       "    }\n",
       "</style>\n",
       "<table border=\"1\" class=\"dataframe\">\n",
       "  <thead>\n",
       "    <tr style=\"text-align: right;\">\n",
       "      <th></th>\n",
       "      <th>Marital_Divorced</th>\n",
       "      <th>Marital_Married_civ_spouse</th>\n",
       "      <th>Marital_Married_spouse_absent</th>\n",
       "      <th>Marital_Never_married</th>\n",
       "      <th>Marital_Separated</th>\n",
       "      <th>Marital_Widowed</th>\n",
       "      <th>Income</th>\n",
       "    </tr>\n",
       "  </thead>\n",
       "  <tbody>\n",
       "    <tr>\n",
       "      <th>Marital_Divorced</th>\n",
       "      <td>1.000000</td>\n",
       "      <td>-0.366837</td>\n",
       "      <td>-0.045331</td>\n",
       "      <td>-0.277772</td>\n",
       "      <td>-0.071665</td>\n",
       "      <td>-0.070501</td>\n",
       "      <td>-0.126995</td>\n",
       "    </tr>\n",
       "    <tr>\n",
       "      <th>Marital_Married_civ_spouse</th>\n",
       "      <td>-0.366837</td>\n",
       "      <td>1.000000</td>\n",
       "      <td>-0.105238</td>\n",
       "      <td>-0.644866</td>\n",
       "      <td>-0.166374</td>\n",
       "      <td>-0.163673</td>\n",
       "      <td>0.444696</td>\n",
       "    </tr>\n",
       "    <tr>\n",
       "      <th>Marital_Married_spouse_absent</th>\n",
       "      <td>-0.045331</td>\n",
       "      <td>-0.105238</td>\n",
       "      <td>1.000000</td>\n",
       "      <td>-0.079687</td>\n",
       "      <td>-0.020559</td>\n",
       "      <td>-0.020225</td>\n",
       "      <td>-0.042532</td>\n",
       "    </tr>\n",
       "    <tr>\n",
       "      <th>Marital_Never_married</th>\n",
       "      <td>-0.277772</td>\n",
       "      <td>-0.644866</td>\n",
       "      <td>-0.079687</td>\n",
       "      <td>1.000000</td>\n",
       "      <td>-0.125980</td>\n",
       "      <td>-0.123935</td>\n",
       "      <td>-0.318440</td>\n",
       "    </tr>\n",
       "    <tr>\n",
       "      <th>Marital_Separated</th>\n",
       "      <td>-0.071665</td>\n",
       "      <td>-0.166374</td>\n",
       "      <td>-0.020559</td>\n",
       "      <td>-0.125980</td>\n",
       "      <td>1.000000</td>\n",
       "      <td>-0.031975</td>\n",
       "      <td>-0.074386</td>\n",
       "    </tr>\n",
       "    <tr>\n",
       "      <th>Marital_Widowed</th>\n",
       "      <td>-0.070501</td>\n",
       "      <td>-0.163673</td>\n",
       "      <td>-0.020225</td>\n",
       "      <td>-0.123935</td>\n",
       "      <td>-0.031975</td>\n",
       "      <td>1.000000</td>\n",
       "      <td>-0.064381</td>\n",
       "    </tr>\n",
       "    <tr>\n",
       "      <th>Income</th>\n",
       "      <td>-0.126995</td>\n",
       "      <td>0.444696</td>\n",
       "      <td>-0.042532</td>\n",
       "      <td>-0.318440</td>\n",
       "      <td>-0.074386</td>\n",
       "      <td>-0.064381</td>\n",
       "      <td>1.000000</td>\n",
       "    </tr>\n",
       "  </tbody>\n",
       "</table>\n",
       "</div>"
      ],
      "text/plain": [
       "                               Marital_Divorced  Marital_Married_civ_spouse  \\\n",
       "Marital_Divorced                       1.000000                   -0.366837   \n",
       "Marital_Married_civ_spouse            -0.366837                    1.000000   \n",
       "Marital_Married_spouse_absent         -0.045331                   -0.105238   \n",
       "Marital_Never_married                 -0.277772                   -0.644866   \n",
       "Marital_Separated                     -0.071665                   -0.166374   \n",
       "Marital_Widowed                       -0.070501                   -0.163673   \n",
       "Income                                -0.126995                    0.444696   \n",
       "\n",
       "                               Marital_Married_spouse_absent  \\\n",
       "Marital_Divorced                                   -0.045331   \n",
       "Marital_Married_civ_spouse                         -0.105238   \n",
       "Marital_Married_spouse_absent                       1.000000   \n",
       "Marital_Never_married                              -0.079687   \n",
       "Marital_Separated                                  -0.020559   \n",
       "Marital_Widowed                                    -0.020225   \n",
       "Income                                             -0.042532   \n",
       "\n",
       "                               Marital_Never_married  Marital_Separated  \\\n",
       "Marital_Divorced                           -0.277772          -0.071665   \n",
       "Marital_Married_civ_spouse                 -0.644866          -0.166374   \n",
       "Marital_Married_spouse_absent              -0.079687          -0.020559   \n",
       "Marital_Never_married                       1.000000          -0.125980   \n",
       "Marital_Separated                          -0.125980           1.000000   \n",
       "Marital_Widowed                            -0.123935          -0.031975   \n",
       "Income                                     -0.318440          -0.074386   \n",
       "\n",
       "                               Marital_Widowed    Income  \n",
       "Marital_Divorced                     -0.070501 -0.126995  \n",
       "Marital_Married_civ_spouse           -0.163673  0.444696  \n",
       "Marital_Married_spouse_absent        -0.020225 -0.042532  \n",
       "Marital_Never_married                -0.123935 -0.318440  \n",
       "Marital_Separated                    -0.031975 -0.074386  \n",
       "Marital_Widowed                       1.000000 -0.064381  \n",
       "Income                               -0.064381  1.000000  "
      ]
     },
     "execution_count": 233,
     "metadata": {},
     "output_type": "execute_result"
    },
    {
     "data": {
      "image/png": "[encoded data removed]",
      "text/plain": [
       "<matplotlib.figure.Figure at 0x294e6fdb5c0>"
      ]
     },
     "metadata": {},
     "output_type": "display_data"
    }
   ],
   "source": [
    "# matriz de correlação das variáveis Marital\n",
    "Base_Marital = train[['Marital_Divorced', 'Marital_Married_civ_spouse', 'Marital_Married_spouse_absent',\n",
    " 'Marital_Never_married', 'Marital_Separated', 'Marital_Widowed','Income']]\n",
    "corr = Base_Marital.corr()\n",
    "corr = (corr)\n",
    "sns.heatmap(corr, xticklabels=corr.columns.values, yticklabels=corr.columns.values)\n",
    "corr\n",
    "# Variáveis mais corr com a resposta Income: 'Marital_Married_civ_spouse', 'Marital_Divorced',"
   ]
  },
  {
   "cell_type": "markdown",
   "metadata": {},
   "source": [
    "Variáveis a serem utilizadas no método forward para seleção\n",
    "    'Workclass_Self_emp_inc', 'Workclass_Private', 'Workclass_0',\n",
    "    'Education_Bachelors', 'Education_Masters', 'Education_Primary','Education_Prof_school',\n",
    "    'Marital_Married_civ_spouse', 'Marital_Divorced',\n",
    "    'Occupation_Exec_managerial', 'Occupation_Other_service','Occupation_Prof_specialty',\n",
    "    'Relationship_Husband', 'Relationship_Own_child',\n",
    "    'Race_White',\n",
    "    'Sex_Female',\n",
    "    'CountryPoor','CountryUS'"
   ]
  },
  {
   "cell_type": "markdown",
   "metadata": {},
   "source": [
    "## Parte_2: Metodo de seleção de variáveis forward"
   ]
  },
  {
   "cell_type": "code",
   "execution_count": 234,
   "metadata": {
    "collapsed": true
   },
   "outputs": [],
   "source": [
    "#Metodo de seleção de variáveis forward usando statsmodels\n",
    "import statsmodels.formula.api as smf\n",
    "def forward_selected(data, response):\n",
    "    \"\"\"Linear model designed by forward selection.\n",
    "\n",
    "    Parameters:\n",
    "    -----------\n",
    "    data : pandas DataFrame with all possible predictors and response\n",
    "\n",
    "    response: string, name of response column in data\n",
    "\n",
    "    Returns:\n",
    "    --------\n",
    "    model: an \"optimal\" fitted statsmodels linear model\n",
    "           with an intercept\n",
    "           selected by forward selection\n",
    "           evaluated by adjusted R-squared\n",
    "    \"\"\"\n",
    "    remaining = set(data.columns)\n",
    "    remaining.remove(response)\n",
    "    selected = []\n",
    "    current_score, best_new_score = 0.0, 0.0\n",
    "    while remaining and current_score == best_new_score:\n",
    "        scores_with_candidates = []\n",
    "        for candidate in remaining:\n",
    "            formula = \"{} ~ {} + 1\".format(response,\n",
    "                                           ' + '.join(selected + [candidate]))\n",
    "            score = smf.ols(formula, data).fit().rsquared_adj\n",
    "            scores_with_candidates.append((score, candidate))\n",
    "        scores_with_candidates.sort()\n",
    "        best_new_score, best_candidate = scores_with_candidates.pop()\n",
    "        if current_score < best_new_score:\n",
    "            remaining.remove(best_candidate)\n",
    "            selected.append(best_candidate)\n",
    "            current_score = best_new_score\n",
    "    formula = \"{} ~ {} + 1\".format(response,\n",
    "                                   ' + '.join(selected))\n",
    "    model = smf.ols(formula, data).fit()\n",
    "    return model"
   ]
  },
  {
   "cell_type": "code",
   "execution_count": 235,
   "metadata": {
    "collapsed": true
   },
   "outputs": [],
   "source": [
    "train_1 = train[[\n",
    "    'Workclass_Self_emp_inc', 'Workclass_Private', 'Workclass_0',\n",
    "    'Education_Bachelors', 'Education_Masters', 'Education_Primary','Education_Prof_school',\n",
    "    'Marital_Married_civ_spouse', 'Marital_Divorced',\n",
    "    'Occupation_Exec_managerial', 'Occupation_Other_service','Occupation_Prof_specialty',\n",
    "    'Relationship_Husband', 'Relationship_Own_child',\n",
    "    'Race_White',\n",
    "    'Sex_Female',\n",
    "    'Country_Poor','Country_US',\n",
    "    'Age','fnlgwt','Education_num','Capital_Gain','Capital_Loss','Hours_Week',\n",
    "    'Income',\n",
    "]]"
   ]
  },
  {
   "cell_type": "code",
   "execution_count": 236,
   "metadata": {},
   "outputs": [
    {
     "name": "stdout",
     "output_type": "stream",
     "text": [
      "Income ~ Marital_Married_civ_spouse + Education_num + Capital_Gain + Occupation_Exec_managerial + Capital_Loss + Hours_Week + Age + Occupation_Prof_specialty + Education_Primary + Workclass_Self_emp_inc + Workclass_Private + Sex_Female + Relationship_Husband + fnlgwt + Race_White + Education_Masters + Country_Poor + Education_Prof_school + Occupation_Other_service + Education_Bachelors + Relationship_Own_child + 1\n",
      "0.354493585221\n"
     ]
    }
   ],
   "source": [
    "#colocar para rodar quando for sair para o almoço\n",
    "#aplicando o método de seleção de variáveis forward\n",
    "\n",
    "model = forward_selected(train_1, 'Income')\n",
    "\n",
    "print(model.model.formula)\n",
    "print(model.rsquared_adj)\n"
   ]
  },
  {
   "cell_type": "markdown",
   "metadata": {
    "_cell_guid": "a0030fa1-9e7f-4b9b-8423-e99425edfdc0",
    "_uuid": "7533887d132cf0c05bed06efa6f774771227d848"
   },
   "source": [
    "## Parte_3: Ajustando e Escorado um modelo de Regressão Logística usando sklearn"
   ]
  },
  {
   "cell_type": "code",
   "execution_count": 237,
   "metadata": {
    "_cell_guid": "94ee7e77-f1b1-4cc3-abbf-f5db8860e8ce",
    "_uuid": "355e170bffd21137c3fc9b6c0d6fceb5893952e4",
    "collapsed": true
   },
   "outputs": [],
   "source": [
    "from sklearn.linear_model import LogisticRegression\n",
    "from sklearn.metrics import classification_report\n",
    "from sklearn.model_selection import train_test_split\n",
    "from sklearn.metrics import accuracy_score, classification_report, precision_score, recall_score, confusion_matrix, precision_recall_curve\n",
    "from sklearn.metrics import roc_auc_score\n",
    "from sklearn.metrics import classification_report\n",
    "from sklearn.metrics import roc_curve, auc\n",
    "import statsmodels.api as sm\n",
    "import pylab as pl\n",
    "\n"
   ]
  },
  {
   "cell_type": "code",
   "execution_count": 238,
   "metadata": {
    "collapsed": true
   },
   "outputs": [],
   "source": [
    "# Utilizando as vars selecionadas pelo método forward\n",
    "iv = ['Marital_Married_civ_spouse','Education_num','Capital_Gain','Occupation_Exec_managerial','Capital_Loss','Hours_Week',\n",
    "'Age','Occupation_Prof_specialty','Education_Primary','Workclass_Self_emp_inc','Workclass_Private','Sex_Female',\n",
    "'Relationship_Husband','fnlgwt','Race_White','Education_Masters','Country_Poor','Education_Prof_school',\n",
    "'Occupation_Other_service','Education_Bachelors','Relationship_Own_child']\n"
   ]
  },
  {
   "cell_type": "code",
   "execution_count": 239,
   "metadata": {
    "_cell_guid": "5fd5caa5-90c5-41cc-b9d0-53a4080703d8",
    "_uuid": "51d5c8d96e5a67f75ae65ff86151c02d1827c85a",
    "collapsed": true
   },
   "outputs": [],
   "source": [
    "model = LogisticRegression()\n",
    "a = model.fit(Xtrain[iv], Ttrain)\n",
    "\n",
    "model.fit(Xtrain[iv], Ttrain)\n",
    "Ytrain = model.predict(Xtrain[iv])\n",
    "Ytest = model.predict(Xtest[iv])\n",
    "\n",
    "#testess = model.predict_proba(Xtest_1)"
   ]
  },
  {
   "cell_type": "code",
   "execution_count": 240,
   "metadata": {},
   "outputs": [
    {
     "data": {
      "text/plain": [
       "array([[  3.71370009e-03,  -2.33422358e-03,   3.37193747e-04,\n",
       "          1.12575061e-03,   7.77101816e-04,  -1.01540220e-02,\n",
       "         -4.87577533e-03,   8.94700349e-04,  -1.29414770e-03,\n",
       "          3.77231759e-04,  -1.87415528e-03,  -2.72952665e-03,\n",
       "          3.34037832e-03,  -3.69913097e-06,  -9.97837079e-04,\n",
       "          6.22553181e-04,  -3.32610522e-04,   2.91031242e-04,\n",
       "         -1.12194012e-03,   9.86902612e-04,  -2.01969450e-03]])"
      ]
     },
     "execution_count": 240,
     "metadata": {},
     "output_type": "execute_result"
    }
   ],
   "source": [
    "a.coef_"
   ]
  },
  {
   "cell_type": "code",
   "execution_count": 241,
   "metadata": {
    "_cell_guid": "c1d2f345-bed0-413c-a4d8-04fcd0c42e47",
    "_uuid": "b35ebf3fb45db90f240984012470d6d1beee1cf1"
   },
   "outputs": [
    {
     "name": "stdout",
     "output_type": "stream",
     "text": [
      "\n",
      "\n",
      " ---Base de Treinamento---\n",
      "\n",
      "\n",
      " ---Matriz de Confusão---\n",
      "[[23918   802]\n",
      " [ 5780  2061]]\n",
      "\n",
      "\n",
      " ---Logistic Model---\n",
      "Logistic AUC = 0.62\n",
      "             precision    recall  f1-score   support\n",
      "\n",
      "          0       0.81      0.97      0.88     24720\n",
      "          1       0.72      0.26      0.39      7841\n",
      "\n",
      "avg / total       0.78      0.80      0.76     32561\n",
      "\n"
     ]
    }
   ],
   "source": [
    "# Calculando confusion matrix, AUC, precision e recall para base de treinamento\n",
    "#model.fit(Xtrain, Ttrain)\n",
    "cnf_matrix = confusion_matrix(Ttrain, Ytrain)\n",
    "print (\"\\n\\n ---Base de Treinamento---\")\n",
    "print (\"\\n\\n ---Matriz de Confusão---\")\n",
    "print(cnf_matrix)\n",
    "\n",
    "print (\"\\n\\n ---Logistic Model---\")\n",
    "logit_roc_auc = roc_auc_score(Ttrain, model.predict(Xtrain[iv]))\n",
    "print (\"Logistic AUC = %2.2f\" % logit_roc_auc)\n",
    "print(classification_report(Ttrain, Ytrain))"
   ]
  },
  {
   "cell_type": "code",
   "execution_count": 242,
   "metadata": {
    "collapsed": true
   },
   "outputs": [],
   "source": [
    "# model.predict(Xtrain[iv])"
   ]
  },
  {
   "cell_type": "code",
   "execution_count": 243,
   "metadata": {
    "_cell_guid": "49a9285e-96f3-4b19-ba03-dc61adaf19a8",
    "_uuid": "4447e3d054f327cd861c8694ed4826fbb754f97f"
   },
   "outputs": [
    {
     "name": "stdout",
     "output_type": "stream",
     "text": [
      "\n",
      "\n",
      " ---Base de Teste---\n",
      "\n",
      "\n",
      " ---Matriz de Confusão---\n",
      "[[12021   414]\n",
      " [ 2848   998]]\n",
      "\n",
      "\n",
      " ---Logistic Model---\n",
      "Logistic AUC = 0.61\n",
      "             precision    recall  f1-score   support\n",
      "\n",
      "          0       0.81      0.97      0.88     12435\n",
      "          1       0.71      0.26      0.38      3846\n",
      "\n",
      "avg / total       0.78      0.80      0.76     16281\n",
      "\n"
     ]
    }
   ],
   "source": [
    "# Calculando AUC, precision e recall para base de teste\n",
    "#model.fit(Xtest, Ttest)\n",
    "cnf_matrix = confusion_matrix(Ttest, Ytest)\n",
    "print (\"\\n\\n ---Base de Teste---\")\n",
    "print (\"\\n\\n ---Matriz de Confusão---\")\n",
    "print(cnf_matrix)\n",
    "print (\"\\n\\n ---Logistic Model---\")\n",
    "logit_roc_auc = roc_auc_score(Ttest, model.predict(Xtest[iv]))\n",
    "print (\"Logistic AUC = %2.2f\" % logit_roc_auc)\n",
    "print(classification_report(Ttest, Ytest))"
   ]
  },
  {
   "cell_type": "code",
   "execution_count": 244,
   "metadata": {},
   "outputs": [
    {
     "data": {
      "image/png": "[encoded data removed]",
      "text/plain": [
       "<matplotlib.figure.Figure at 0x294e268bc88>"
      ]
     },
     "metadata": {},
     "output_type": "display_data"
    }
   ],
   "source": [
    "# Plotando o curva ROC para a base de treinamento\n",
    "fpr, tpr, thresholds = roc_curve(Ttrain, model.predict_proba(Xtrain[iv])[:,1])\n",
    "# fpr, tpr, thresholds = roc_curve(y_test, model.predict_proba(X_test)[:,1])\n",
    "plt.figure()\n",
    "plt.plot(fpr, tpr, label='Train(area = %0.2f)' % logit_roc_auc)\n",
    "\n",
    "# Plotando o curva ROC para a base de teste\n",
    "fpr, tpr, thresholds = roc_curve(Ttest, model.predict_proba(Xtest[iv])[:,1])\n",
    "plt.plot(fpr, tpr, label='Test(area = %0.2f)' % logit_roc_auc)\n",
    "\n",
    "\n",
    "plt.xlim([0.0, 1.0])\n",
    "plt.ylim([0.0, 1.05])\n",
    "plt.xlabel('False Positive Rate')\n",
    "plt.ylabel('True Positive Rate')\n",
    "plt.title('ROC Graph')\n",
    "plt.legend(loc=\"lower right\")\n",
    "plt.show()"
   ]
  },
  {
   "cell_type": "markdown",
   "metadata": {},
   "source": [
    "## Parte_4: Ajustando e Escorado um modelo de Regressão Logística usando statsmodels"
   ]
  },
  {
   "cell_type": "code",
   "execution_count": 245,
   "metadata": {},
   "outputs": [
    {
     "name": "stdout",
     "output_type": "stream",
     "text": [
      "Optimization terminated successfully.\n",
      "         Current function value: 0.385114\n",
      "         Iterations 8\n"
     ]
    },
    {
     "data": {
      "text/html": [
       "<table class=\"simpletable\">\n",
       "<tr>\n",
       "        <td>Model:</td>              <td>Logit</td>      <td>Pseudo R-squared:</td>    <td>0.302</td>  \n",
       "</tr>\n",
       "<tr>\n",
       "  <td>Dependent Variable:</td>      <td>Income</td>            <td>AIC:</td>        <td>25107.3636</td>\n",
       "</tr>\n",
       "<tr>\n",
       "         <td>Date:</td>        <td>2018-06-13 21:31</td>       <td>BIC:</td>        <td>25224.8357</td>\n",
       "</tr>\n",
       "<tr>\n",
       "   <td>No. Observations:</td>        <td>32561</td>       <td>Log-Likelihood:</td>    <td>-12540.</td> \n",
       "</tr>\n",
       "<tr>\n",
       "       <td>Df Model:</td>             <td>13</td>            <td>LL-Null:</td>        <td>-17974.</td> \n",
       "</tr>\n",
       "<tr>\n",
       "     <td>Df Residuals:</td>          <td>32547</td>        <td>LLR p-value:</td>      <td>0.0000</td>  \n",
       "</tr>\n",
       "<tr>\n",
       "      <td>Converged:</td>           <td>1.0000</td>           <td>Scale:</td>         <td>1.0000</td>  \n",
       "</tr>\n",
       "<tr>\n",
       "    <td>No. Iterations:</td>        <td>8.0000</td>              <td></td>               <td></td>     \n",
       "</tr>\n",
       "</table>\n",
       "<table class=\"simpletable\">\n",
       "<tr>\n",
       "               <td></td>               <th>Coef.</th>  <th>Std.Err.</th>     <th>z</th>     <th>P>|z|</th> <th>[0.025</th>  <th>0.975]</th> \n",
       "</tr>\n",
       "<tr>\n",
       "  <th>Marital_Married_civ_spouse</th> <td>2.6417</td>   <td>0.0720</td>   <td>36.6722</td> <td>0.0000</td> <td>2.5005</td>  <td>2.7829</td> \n",
       "</tr>\n",
       "<tr>\n",
       "  <th>Education_num</th>              <td>-0.1167</td>  <td>0.0068</td>  <td>-17.2262</td> <td>0.0000</td> <td>-0.1300</td> <td>-0.1034</td>\n",
       "</tr>\n",
       "<tr>\n",
       "  <th>Capital_Gain</th>               <td>0.0003</td>   <td>0.0000</td>   <td>33.9907</td> <td>0.0000</td> <td>0.0003</td>  <td>0.0003</td> \n",
       "</tr>\n",
       "<tr>\n",
       "  <th>Occupation_Exec_managerial</th> <td>1.3339</td>   <td>0.0452</td>   <td>29.5158</td> <td>0.0000</td> <td>1.2454</td>  <td>1.4225</td> \n",
       "</tr>\n",
       "<tr>\n",
       "  <th>Capital_Loss</th>               <td>0.0007</td>   <td>0.0000</td>   <td>20.6838</td> <td>0.0000</td> <td>0.0006</td>  <td>0.0008</td> \n",
       "</tr>\n",
       "<tr>\n",
       "  <th>Hours_Week</th>                 <td>-0.0077</td>  <td>0.0013</td>   <td>-6.1096</td> <td>0.0000</td> <td>-0.0101</td> <td>-0.0052</td>\n",
       "</tr>\n",
       "<tr>\n",
       "  <th>Age</th>                        <td>-0.0079</td>  <td>0.0012</td>   <td>-6.3743</td> <td>0.0000</td> <td>-0.0103</td> <td>-0.0055</td>\n",
       "</tr>\n",
       "<tr>\n",
       "  <th>Occupation_Prof_specialty</th>  <td>1.4944</td>   <td>0.0492</td>   <td>30.3504</td> <td>0.0000</td> <td>1.3979</td>  <td>1.5909</td> \n",
       "</tr>\n",
       "<tr>\n",
       "  <th>Education_Primary</th>          <td>-2.2111</td>  <td>0.0812</td>  <td>-27.2464</td> <td>0.0000</td> <td>-2.3701</td> <td>-2.0520</td>\n",
       "</tr>\n",
       "<tr>\n",
       "  <th>Workclass_Self_emp_inc</th>     <td>0.3729</td>   <td>0.0818</td>   <td>4.5566</td>  <td>0.0000</td> <td>0.2125</td>  <td>0.5332</td> \n",
       "</tr>\n",
       "<tr>\n",
       "  <th>Workclass_Private</th>          <td>-0.3894</td>  <td>0.0340</td>  <td>-11.4534</td> <td>0.0000</td> <td>-0.4561</td> <td>-0.3228</td>\n",
       "</tr>\n",
       "<tr>\n",
       "  <th>Sex_Female</th>                 <td>-1.2423</td>  <td>0.0601</td>  <td>-20.6844</td> <td>0.0000</td> <td>-1.3600</td> <td>-1.1245</td>\n",
       "</tr>\n",
       "<tr>\n",
       "  <th>Relationship_Husband</th>       <td>-0.9380</td>  <td>0.0813</td>  <td>-11.5372</td> <td>0.0000</td> <td>-1.0973</td> <td>-0.7786</td>\n",
       "</tr>\n",
       "<tr>\n",
       "  <th>fnlgwt</th>                     <td>-0.0000</td>  <td>0.0000</td>  <td>-11.2921</td> <td>0.0000</td> <td>-0.0000</td> <td>-0.0000</td>\n",
       "</tr>\n",
       "</table>"
      ],
      "text/plain": [
       "<class 'statsmodels.iolib.summary2.Summary'>\n",
       "\"\"\"\n",
       "                              Results: Logit\n",
       "===========================================================================\n",
       "Model:                  Logit               Pseudo R-squared:    0.302     \n",
       "Dependent Variable:     Income              AIC:                 25107.3636\n",
       "Date:                   2018-06-13 21:31    BIC:                 25224.8357\n",
       "No. Observations:       32561               Log-Likelihood:      -12540.   \n",
       "Df Model:               13                  LL-Null:             -17974.   \n",
       "Df Residuals:           32547               LLR p-value:         0.0000    \n",
       "Converged:              1.0000              Scale:               1.0000    \n",
       "No. Iterations:         8.0000                                             \n",
       "---------------------------------------------------------------------------\n",
       "                            Coef.  Std.Err.    z     P>|z|   [0.025  0.975]\n",
       "---------------------------------------------------------------------------\n",
       "Marital_Married_civ_spouse  2.6417   0.0720  36.6722 0.0000  2.5005  2.7829\n",
       "Education_num              -0.1167   0.0068 -17.2262 0.0000 -0.1300 -0.1034\n",
       "Capital_Gain                0.0003   0.0000  33.9907 0.0000  0.0003  0.0003\n",
       "Occupation_Exec_managerial  1.3339   0.0452  29.5158 0.0000  1.2454  1.4225\n",
       "Capital_Loss                0.0007   0.0000  20.6838 0.0000  0.0006  0.0008\n",
       "Hours_Week                 -0.0077   0.0013  -6.1096 0.0000 -0.0101 -0.0052\n",
       "Age                        -0.0079   0.0012  -6.3743 0.0000 -0.0103 -0.0055\n",
       "Occupation_Prof_specialty   1.4944   0.0492  30.3504 0.0000  1.3979  1.5909\n",
       "Education_Primary          -2.2111   0.0812 -27.2464 0.0000 -2.3701 -2.0520\n",
       "Workclass_Self_emp_inc      0.3729   0.0818   4.5566 0.0000  0.2125  0.5332\n",
       "Workclass_Private          -0.3894   0.0340 -11.4534 0.0000 -0.4561 -0.3228\n",
       "Sex_Female                 -1.2423   0.0601 -20.6844 0.0000 -1.3600 -1.1245\n",
       "Relationship_Husband       -0.9380   0.0813 -11.5372 0.0000 -1.0973 -0.7786\n",
       "fnlgwt                     -0.0000   0.0000 -11.2921 0.0000 -0.0000 -0.0000\n",
       "===========================================================================\n",
       "\n",
       "\"\"\""
      ]
     },
     "execution_count": 245,
     "metadata": {},
     "output_type": "execute_result"
    }
   ],
   "source": [
    "# Modelo com variáveis obtidas do método forward\n",
    "iv = ['Marital_Married_civ_spouse','Education_num','Capital_Gain','Occupation_Exec_managerial','Capital_Loss','Hours_Week',\n",
    "'Age','Occupation_Prof_specialty','Education_Primary','Workclass_Self_emp_inc','Workclass_Private','Sex_Female',\n",
    "'Relationship_Husband','fnlgwt']\n",
    "\n",
    "logReg = sm.Logit(Ttrain, Xtrain[iv])\n",
    "answer = logReg.fit()\n",
    "answer.summary2()\n"
   ]
  },
  {
   "cell_type": "code",
   "execution_count": 246,
   "metadata": {},
   "outputs": [
    {
     "name": "stdout",
     "output_type": "stream",
     "text": [
      "Area under the ROC curve Train : 0.850383\n",
      "Area under the ROC curve Test : 0.851255\n"
     ]
    }
   ],
   "source": [
    "# Calculando o valor predito das bases de treinamento e validação\n",
    "Ytrain = answer.predict(Xtrain[iv])\n",
    "\n",
    "fpr1, tpr1, thresholds =roc_curve(Ttrain, Ytrain)\n",
    "roc_auc1 = auc(fpr1, tpr1)\n",
    "print(\"Area under the ROC curve Train : %f\" % roc_auc1)\n",
    "\n",
    "Ytest = answer.predict(Xtest[iv])\n",
    "\n",
    "fpr2, tpr2, thresholds =roc_curve(Ttest, Ytest)\n",
    "roc_auc2 = auc(fpr2, tpr2)\n",
    "print(\"Area under the ROC curve Test : %f\" % roc_auc2)"
   ]
  },
  {
   "cell_type": "code",
   "execution_count": 247,
   "metadata": {},
   "outputs": [
    {
     "data": {
      "image/png": "[encoded data removed]",
      "text/plain": [
       "<matplotlib.figure.Figure at 0x294e291b0f0>"
      ]
     },
     "metadata": {},
     "output_type": "display_data"
    }
   ],
   "source": [
    "# plotando a curva ROC para as bases de treinamento e validação\n",
    "plt.plot(fpr1, tpr1)\n",
    "plt.plot(fpr2, tpr2)\n",
    "plt.plot()\n",
    "plt.xlim([0.0, 1.0])\n",
    "plt.ylim([0.0, 1.05])\n",
    "plt.xlabel('False Positive Rate')\n",
    "plt.ylabel('True Positive Rate')\n",
    "plt.title('ROC Graph')\n",
    "plt.legend([\"Train: \" + str(roc_auc1), \"Test: \" + str(roc_auc2)  ],  loc=\"lower right\")\n",
    "plt.show()"
   ]
  },
  {
   "cell_type": "markdown",
   "metadata": {
    "collapsed": true
   },
   "source": [
    "Referências <br>\n",
    "- https://www.kaggle.com/kost13/us-income-logistic-regression\n",
    "- http://planspace.org/20150423-forward_selection_with_statsmodels/"
   ]
  }
 ],
 "metadata": {
  "kernelspec": {
   "display_name": "Python 3",
   "language": "python",
   "name": "python3"
  },
  "language_info": {
   "codemirror_mode": {
    "name": "ipython",
    "version": 3
   },
   "file_extension": ".py",
   "mimetype": "text/x-python",
   "name": "python",
   "nbconvert_exporter": "python",
   "pygments_lexer": "ipython3",
   "version": "3.6.3"
  }
 },
 "nbformat": 4,
 "nbformat_minor": 1
}
